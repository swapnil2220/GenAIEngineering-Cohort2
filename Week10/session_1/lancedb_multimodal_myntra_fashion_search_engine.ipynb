{
 "cells": [
  {
   "cell_type": "markdown",
   "metadata": {
    "id": "xgydN0D4TtBF"
   },
   "source": [
    "# LanceDB Myntra Fashion Search Engine\n",
    "\n",
    "[View in Colab](https://colab.research.google.com/drive/17CNo2rkbFYaIYcS5_ABd-fimBDWBi0C7?usp=sharing)"
   ]
  },
  {
   "cell_type": "markdown",
   "metadata": {
    "id": "BUElYQzKT41t"
   },
   "source": [
    "## Preliminaries"
   ]
  },
  {
   "cell_type": "code",
   "execution_count": 1,
   "metadata": {
    "id": "PQj_jlbRUteu"
   },
   "outputs": [],
   "source": [
    "%%capture\n",
    "\n",
    "# !pip install lancedb\n",
    "# !pip install open_clip_torch"
   ]
  },
  {
   "cell_type": "code",
   "execution_count": 2,
   "metadata": {
    "id": "uddRx_vxT6_t"
   },
   "outputs": [],
   "source": [
    "import os\n",
    "import pandas as pd\n",
    "from PIL import Image\n",
    "from pathlib import Path\n",
    "from random import sample\n",
    "\n",
    "import lancedb\n",
    "from lancedb.pydantic import LanceModel, Vector\n",
    "from lancedb.embeddings import EmbeddingFunctionRegistry\n",
    "\n",
    "from typing import Any"
   ]
  },
  {
   "cell_type": "markdown",
   "metadata": {
    "id": "GEtZ52fYZNz0"
   },
   "source": [
    "## Download Data Instructions\n",
    "- For this project you need to download the [Myntra Fashion Product Dataset]( https://www.kaggle.com/datasets/hiteshsuthar101/myntra-fashion-product-dataset) from Kaggle.\n",
    "- Create a folder named `input` within `session_1`.\n",
    "- Unzip the downloaded data and move it in the `input` folder.\n",
    "- The final directory structure should look like this\n",
    "```python\n",
    "Week9\n",
    "  |-session_1\n",
    "  |     |-input\n",
    "  |         |-Fashion Dataset.csv\n",
    "  |         |-Images\n",
    "  |             |-Images\n",
    "  |                |-0.jpg\n",
    "  |                |-2.jpg\n",
    "  |                .\n",
    "  |                .\n",
    "  |                .\n",
    "  |-session_2\n",
    "        |-....\n",
    "```"
   ]
  },
  {
   "cell_type": "code",
   "execution_count": 3,
   "metadata": {},
   "outputs": [
    {
     "data": {
      "text/html": [
       "<div>\n",
       "<style scoped>\n",
       "    .dataframe tbody tr th:only-of-type {\n",
       "        vertical-align: middle;\n",
       "    }\n",
       "\n",
       "    .dataframe tbody tr th {\n",
       "        vertical-align: top;\n",
       "    }\n",
       "\n",
       "    .dataframe thead th {\n",
       "        text-align: right;\n",
       "    }\n",
       "</style>\n",
       "<table border=\"1\" class=\"dataframe\">\n",
       "  <thead>\n",
       "    <tr style=\"text-align: right;\">\n",
       "      <th></th>\n",
       "      <th>p_id</th>\n",
       "      <th>name</th>\n",
       "      <th>price</th>\n",
       "      <th>colour</th>\n",
       "      <th>brand</th>\n",
       "      <th>img</th>\n",
       "      <th>ratingCount</th>\n",
       "      <th>avg_rating</th>\n",
       "      <th>description</th>\n",
       "      <th>p_attributes</th>\n",
       "    </tr>\n",
       "  </thead>\n",
       "  <tbody>\n",
       "    <tr>\n",
       "      <th>0</th>\n",
       "      <td>17048614.0</td>\n",
       "      <td>Khushal K Women Black Ethnic Motifs Printed Ku...</td>\n",
       "      <td>5099.0</td>\n",
       "      <td>Black</td>\n",
       "      <td>Khushal K</td>\n",
       "      <td>http://assets.myntassets.com/assets/images/170...</td>\n",
       "      <td>4522.0</td>\n",
       "      <td>4.418399</td>\n",
       "      <td>Black printed Kurta with Palazzos with dupatta...</td>\n",
       "      <td>{'Add-Ons': 'NA', 'Body Shape ID': '443,333,32...</td>\n",
       "    </tr>\n",
       "    <tr>\n",
       "      <th>1</th>\n",
       "      <td>16524740.0</td>\n",
       "      <td>InWeave Women Orange Solid Kurta with Palazzos...</td>\n",
       "      <td>5899.0</td>\n",
       "      <td>Orange</td>\n",
       "      <td>InWeave</td>\n",
       "      <td>http://assets.myntassets.com/assets/images/165...</td>\n",
       "      <td>1081.0</td>\n",
       "      <td>4.119334</td>\n",
       "      <td>Orange solid Kurta with Palazzos with dupatta&lt;...</td>\n",
       "      <td>{'Add-Ons': 'NA', 'Body Shape ID': '443,333,32...</td>\n",
       "    </tr>\n",
       "    <tr>\n",
       "      <th>2</th>\n",
       "      <td>16331376.0</td>\n",
       "      <td>Anubhutee Women Navy Blue Ethnic Motifs Embroi...</td>\n",
       "      <td>4899.0</td>\n",
       "      <td>Navy Blue</td>\n",
       "      <td>Anubhutee</td>\n",
       "      <td>http://assets.myntassets.com/assets/images/163...</td>\n",
       "      <td>1752.0</td>\n",
       "      <td>4.161530</td>\n",
       "      <td>Navy blue embroidered Kurta with Trousers with...</td>\n",
       "      <td>{'Add-Ons': 'NA', 'Body Shape ID': '333,424', ...</td>\n",
       "    </tr>\n",
       "    <tr>\n",
       "      <th>3</th>\n",
       "      <td>14709966.0</td>\n",
       "      <td>Nayo Women Red Floral Printed Kurta With Trous...</td>\n",
       "      <td>3699.0</td>\n",
       "      <td>Red</td>\n",
       "      <td>Nayo</td>\n",
       "      <td>http://assets.myntassets.com/assets/images/147...</td>\n",
       "      <td>4113.0</td>\n",
       "      <td>4.088986</td>\n",
       "      <td>Red printed kurta with trouser and dupatta&lt;br&gt;...</td>\n",
       "      <td>{'Add-Ons': 'NA', 'Body Shape ID': '333,424', ...</td>\n",
       "    </tr>\n",
       "    <tr>\n",
       "      <th>4</th>\n",
       "      <td>11056154.0</td>\n",
       "      <td>AHIKA Women Black &amp; Green Printed Straight Kurta</td>\n",
       "      <td>1350.0</td>\n",
       "      <td>Black</td>\n",
       "      <td>AHIKA</td>\n",
       "      <td>http://assets.myntassets.com/assets/images/110...</td>\n",
       "      <td>21274.0</td>\n",
       "      <td>3.978377</td>\n",
       "      <td>Black and green printed straight kurta, has a ...</td>\n",
       "      <td>{'Body Shape ID': '424', 'Body or Garment Size...</td>\n",
       "    </tr>\n",
       "  </tbody>\n",
       "</table>\n",
       "</div>"
      ],
      "text/plain": [
       "         p_id                                               name   price  \\\n",
       "0  17048614.0  Khushal K Women Black Ethnic Motifs Printed Ku...  5099.0   \n",
       "1  16524740.0  InWeave Women Orange Solid Kurta with Palazzos...  5899.0   \n",
       "2  16331376.0  Anubhutee Women Navy Blue Ethnic Motifs Embroi...  4899.0   \n",
       "3  14709966.0  Nayo Women Red Floral Printed Kurta With Trous...  3699.0   \n",
       "4  11056154.0   AHIKA Women Black & Green Printed Straight Kurta  1350.0   \n",
       "\n",
       "      colour      brand                                                img  \\\n",
       "0      Black  Khushal K  http://assets.myntassets.com/assets/images/170...   \n",
       "1     Orange    InWeave  http://assets.myntassets.com/assets/images/165...   \n",
       "2  Navy Blue  Anubhutee  http://assets.myntassets.com/assets/images/163...   \n",
       "3        Red       Nayo  http://assets.myntassets.com/assets/images/147...   \n",
       "4      Black      AHIKA  http://assets.myntassets.com/assets/images/110...   \n",
       "\n",
       "   ratingCount  avg_rating                                        description  \\\n",
       "0       4522.0    4.418399  Black printed Kurta with Palazzos with dupatta...   \n",
       "1       1081.0    4.119334  Orange solid Kurta with Palazzos with dupatta<...   \n",
       "2       1752.0    4.161530  Navy blue embroidered Kurta with Trousers with...   \n",
       "3       4113.0    4.088986  Red printed kurta with trouser and dupatta<br>...   \n",
       "4      21274.0    3.978377  Black and green printed straight kurta, has a ...   \n",
       "\n",
       "                                        p_attributes  \n",
       "0  {'Add-Ons': 'NA', 'Body Shape ID': '443,333,32...  \n",
       "1  {'Add-Ons': 'NA', 'Body Shape ID': '443,333,32...  \n",
       "2  {'Add-Ons': 'NA', 'Body Shape ID': '333,424', ...  \n",
       "3  {'Add-Ons': 'NA', 'Body Shape ID': '333,424', ...  \n",
       "4  {'Body Shape ID': '424', 'Body or Garment Size...  "
      ]
     },
     "execution_count": 3,
     "metadata": {},
     "output_type": "execute_result"
    }
   ],
   "source": [
    "import pandas as pd\n",
    "\n",
    "df = pd.read_csv(\"input/Fashion Dataset.csv\", index_col=0)\n",
    "\n",
    "df.head()"
   ]
  },
  {
   "cell_type": "markdown",
   "metadata": {
    "id": "JZafdZy-TiJa"
   },
   "source": [
    "## Embedding Model"
   ]
  },
  {
   "cell_type": "code",
   "execution_count": 4,
   "metadata": {
    "id": "14TJFhtxTczp"
   },
   "outputs": [],
   "source": [
    "def register_model(model_name: str) -> Any:\n",
    "    \"\"\"\n",
    "    Register a model with the given name using LanceDB's EmbeddingFunctionRegistry.\n",
    "\n",
    "    Args:\n",
    "        model_name (str): The name of the model to register.\n",
    "\n",
    "    Returns:\n",
    "        model: The registered model instance.\n",
    "\n",
    "    Usage:\n",
    "    >>> model = register_model(\"open-clip\")\n",
    "    \"\"\"\n",
    "    registry = EmbeddingFunctionRegistry.get_instance()\n",
    "    model = registry.get(model_name).create()\n",
    "    return model"
   ]
  },
  {
   "cell_type": "markdown",
   "metadata": {
    "id": "l2bJC-3CTd36"
   },
   "source": [
    "## Schema"
   ]
  },
  {
   "cell_type": "code",
   "execution_count": 5,
   "metadata": {
    "id": "5upIYuE5TJ13"
   },
   "outputs": [],
   "source": [
    "# Register the OpenAI CLIP model\n",
    "clip = register_model(\"open-clip\")\n",
    "\n",
    "\n",
    "class Myntra(LanceModel):\n",
    "    \"\"\"\n",
    "    Represents a Myntra Schema.\n",
    "\n",
    "    Attributes:\n",
    "        vector (Vector): The vector representation of the item.\n",
    "        image_uri (str): The URI of the item's image.\n",
    "    \"\"\"\n",
    "\n",
    "    vector: Vector(clip.ndims()) = clip.VectorField()\n",
    "    image_uri: str = clip.SourceField()\n",
    "\n",
    "    @property\n",
    "    def image(self):\n",
    "        return Image.open(self.image_uri)\n",
    "\n",
    "\n",
    "# Function to map schema name to schema class\n",
    "def get_schema_by_name(schema_name: str) -> Any:\n",
    "    \"\"\"\n",
    "    Retrieves the schema object based on the given schema name.\n",
    "\n",
    "    Args:\n",
    "        schema_name (str): The name of the schema.\n",
    "\n",
    "    Returns:\n",
    "        object: The schema object corresponding to the given schema name, or None if not found.\n",
    "\n",
    "    Usage:\n",
    "    >>> schema = get_schema_by_name(\"Myntra\")\n",
    "    \"\"\"\n",
    "    schema_map = {\n",
    "        \"Myntra\": Myntra,\n",
    "    }\n",
    "    return schema_map.get(schema_name)"
   ]
  },
  {
   "cell_type": "markdown",
   "metadata": {
    "id": "dy3LohCmTlW3"
   },
   "source": [
    "## Creating a Table"
   ]
  },
  {
   "cell_type": "code",
   "execution_count": 6,
   "metadata": {
    "id": "uDhRy1uTTnY-"
   },
   "outputs": [],
   "source": [
    "def create_table(\n",
    "    database: str,\n",
    "    table_name: str,\n",
    "    data_path: str,\n",
    "    mode: str = \"create\",  # \"create\", \"overwrite\"\n",
    "    schema: Any = Myntra,\n",
    "    sample_size: int = 100,\n",
    ") -> None:\n",
    "    \"\"\"\n",
    "    Create a table in the specified vector database and add data to it.\n",
    "\n",
    "    Args:\n",
    "        database (str): The name of the database to connect to.\n",
    "        table_name (str): The name of the table to create.\n",
    "        data_path (str): The path to the data directory.\n",
    "        mode (str): The mode for creating the table. Defaults to \"create\".\n",
    "        schema (Schema, optional): The schema to use for the table. Defaults to Myntra.\n",
    "        sample_size (int, optional): The number of images to sample from the data. Defaults to 100.\n",
    "\n",
    "    Returns:\n",
    "        None\n",
    "\n",
    "    Usage:\n",
    "    >>> create_table(database=\"lancedb_myntra\", table_name=\"fashion\", data_path=\"input\")\n",
    "    \"\"\"\n",
    "\n",
    "    # Connect to the lancedb database\n",
    "    db = lancedb.connect(database)\n",
    "\n",
    "    # Check if the table already exists in the database\n",
    "    if table_name in db and mode != \"overwrite\":\n",
    "        print(f\"Table {table_name} already exists in the database\")\n",
    "        table = db[table_name]\n",
    "\n",
    "    # if it does not exist then create a new table\n",
    "    else:\n",
    "\n",
    "        print(f\"Creating table {table_name} in the database\")\n",
    "\n",
    "        if table_name in db:\n",
    "            db.drop_table(table_name)\n",
    "\n",
    "        # Create the table with the given schema\n",
    "        table = db.create_table(table_name, schema=schema, mode=mode)\n",
    "\n",
    "        # Define the Path of the images and obtain the Image uri\n",
    "        p = Path(data_path).expanduser()\n",
    "        uris = [str(f) for f in p.glob(\"*.jpg\")]\n",
    "        print(f\"Found {len(uris)} images in {p}\")\n",
    "\n",
    "        # Sample sample_size images from the data\n",
    "        # Increase this value for more accurate results but\n",
    "        # it will take more time to process embeddings\n",
    "        uris = sample(uris, sample_size)\n",
    "\n",
    "        # Add the data to the table\n",
    "        print(f\"Adding {len(uris)} images to the table\")\n",
    "        table.add(pd.DataFrame({\"image_uri\": uris}))\n",
    "        print(f\"Added {len(uris)} images to the table\")"
   ]
  },
  {
   "cell_type": "code",
   "execution_count": 14,
   "metadata": {
    "colab": {
     "base_uri": "https://localhost:8080/"
    },
    "id": "FP5uK1rcP38K",
    "outputId": "ce98efcf-cc66-4b71-ef58-d6b1512e0583"
   },
   "outputs": [
    {
     "name": "stdout",
     "output_type": "stream",
     "text": [
      "Creating table fashion in the database\n",
      "Found 14481 images in input/Images/Images\n",
      "Adding 1000 images to the table\n"
     ]
    },
    {
     "name": "stderr",
     "output_type": "stream",
     "text": [
      "\u001b[90m[\u001b[0m2025-06-20T20:20:55Z \u001b[33mWARN \u001b[0m lance::dataset::write::insert\u001b[90m]\u001b[0m No existing dataset at /Users/ishandutta/Documents/code/GenAIEngineering-Cohort1/Week9/session_1/lancedb_myntra/fashion.lance, it will be created\n",
      "100%|██████████| 64/64 [00:01<00:00, 51.07it/s]\n",
      "100%|██████████| 64/64 [00:01<00:00, 51.51it/s]\n",
      "100%|██████████| 64/64 [00:01<00:00, 49.89it/s]\n",
      "100%|██████████| 64/64 [00:01<00:00, 52.77it/s]\n",
      "100%|██████████| 64/64 [00:01<00:00, 45.77it/s]\n",
      "100%|██████████| 64/64 [00:01<00:00, 52.56it/s]\n",
      "100%|██████████| 64/64 [00:01<00:00, 51.17it/s]\n",
      "100%|██████████| 64/64 [00:01<00:00, 49.81it/s]\n",
      "100%|██████████| 64/64 [00:01<00:00, 51.99it/s]\n",
      "100%|██████████| 64/64 [00:01<00:00, 49.87it/s]\n",
      "100%|██████████| 64/64 [00:01<00:00, 51.85it/s]\n",
      "100%|██████████| 64/64 [00:01<00:00, 52.88it/s]\n",
      "100%|██████████| 64/64 [00:01<00:00, 51.26it/s]\n",
      "100%|██████████| 64/64 [00:01<00:00, 52.97it/s]\n",
      "100%|██████████| 64/64 [00:01<00:00, 51.81it/s]\n",
      "100%|██████████| 40/40 [00:00<00:00, 51.47it/s]"
     ]
    },
    {
     "name": "stdout",
     "output_type": "stream",
     "text": [
      "Added 1000 images to the table\n"
     ]
    },
    {
     "name": "stderr",
     "output_type": "stream",
     "text": [
      "\n"
     ]
    }
   ],
   "source": [
    "# The data_path should refer to the folder in which the images are located\n",
    "\n",
    "create_table(\n",
    "    database=\"lancedb_myntra\",\n",
    "    table_name=\"fashion\",\n",
    "    data_path=\"input/Images/Images\",\n",
    "    mode=\"overwrite\",\n",
    "    sample_size=1000,\n",
    ")"
   ]
  },
  {
   "cell_type": "markdown",
   "metadata": {
    "id": "3vAWovRJTqhv"
   },
   "source": [
    "## Vector Search"
   ]
  },
  {
   "cell_type": "code",
   "execution_count": 8,
   "metadata": {
    "id": "unDrIuzKTrpJ"
   },
   "outputs": [],
   "source": [
    "def run_vector_search(\n",
    "    database: str,\n",
    "    table_name: str,\n",
    "    schema: Any,\n",
    "    search_query: Any,\n",
    "    limit: int = 6,\n",
    "    output_folder: str = \"output\",\n",
    ") -> None:\n",
    "    \"\"\"\n",
    "    This function performs a vector search on the specified database and table using the provided search query.\n",
    "    The search can be performed on either text or image data. The function retrieves the top 'limit' number of results\n",
    "    and saves the corresponding images in the 'output_folder' directory. The function assumes if the search query ends\n",
    "    with '.jpg' or '.png', it is an image search, otherwise it is a text search.\n",
    "    Args:\n",
    "        database (str): The path to the database.\n",
    "        table_name (str): The name of the table.\n",
    "        schema (Schema): The schema to use for converting search results to Pydantic models.\n",
    "        search_query (Any): The search query, can be text or image.\n",
    "        limit (int, optional): The maximum number of results to return. Defaults to 6.\n",
    "        output_folder (str, optional): The folder to save the output images. Defaults to \"output\".\n",
    "\n",
    "    Returns:\n",
    "        None\n",
    "\n",
    "    Usage:\n",
    "    >>> run_vector_search(database=\"lancedb_myntra\", table_name=\"fashion\", schema=Myntra, search_query=\"Black Kurta\")\n",
    "\n",
    "    \"\"\"\n",
    "\n",
    "    # Create the output folder if it does not exist\n",
    "    if os.path.exists(output_folder):\n",
    "        for file in os.listdir(output_folder):\n",
    "            os.remove(os.path.join(output_folder, file))\n",
    "    else:\n",
    "        os.makedirs(output_folder)\n",
    "\n",
    "    # Connect to the lancedb database\n",
    "    db = lancedb.connect(database)\n",
    "\n",
    "    # Open the table\n",
    "    table = db.open_table(table_name)\n",
    "\n",
    "    # Check if the search query is an image or text\n",
    "    try:\n",
    "        if search_query.endswith(\".jpg\") or search_query.endswith(\".png\"):\n",
    "            search_query = Image.open(search_query)\n",
    "        else:\n",
    "            search_query = search_query\n",
    "    except AttributeError as e:\n",
    "        if str(e) == \"'JpegImageFile' object has no attribute 'endswith'\":\n",
    "            print(\n",
    "                \"Running via Streamlit, search query is already an array so skipping opening image using Pillow\"\n",
    "            )\n",
    "        else:\n",
    "            raise\n",
    "\n",
    "    # Perform the vector search and retrieve the results\n",
    "    rs = table.search(search_query).limit(limit).to_pydantic(schema)\n",
    "\n",
    "    # Save the images to the output folder\n",
    "    for i in range(limit):\n",
    "        image_path = os.path.join(output_folder, f\"image_{i}.jpg\")\n",
    "        rs[i].image.save(image_path, \"JPEG\")"
   ]
  },
  {
   "cell_type": "markdown",
   "metadata": {
    "id": "yPCppZacZ1us"
   },
   "source": [
    "After the search is done, the results will be saved in the `output` folder."
   ]
  },
  {
   "cell_type": "markdown",
   "metadata": {
    "id": "b6vk1e1wdu0x"
   },
   "source": [
    "## Text Search\n",
    "\n",
    "Run Text to Image search in the database. Results will be stored in the `Week9/session_1/output` folder."
   ]
  },
  {
   "cell_type": "code",
   "execution_count": 26,
   "metadata": {
    "id": "zBSCG4otP-QZ"
   },
   "outputs": [],
   "source": [
    "run_vector_search(\n",
    "    database=\"lancedb_myntra\",\n",
    "    table_name=\"fashion\",\n",
    "    schema=Myntra,\n",
    "    search_query=\"polka dot black\",\n",
    "    limit=3,\n",
    "    output_folder=\"output\",\n",
    ")\n",
    "\n",
    "# sample search queries\n",
    "# polka dot\n",
    "# black saree\n",
    "# pink kurta\n",
    "# red dress\n",
    "# pink skirt\n",
    "# polka dot black top \n"
   ]
  },
  {
   "cell_type": "markdown",
   "metadata": {
    "id": "hgVFAc_XdxHo"
   },
   "source": [
    "## Image Search\n",
    "\n",
    "Run Image to Image search in the database. Results will be stored in the `Week9/session_1/output` folder."
   ]
  },
  {
   "cell_type": "code",
   "execution_count": 27,
   "metadata": {
    "id": "MfmUygJEdyZO"
   },
   "outputs": [],
   "source": [
    "run_vector_search(\n",
    "    database=\"lancedb_myntra\",\n",
    "    table_name=\"fashion\",\n",
    "    schema=Myntra,\n",
    "    search_query=\"input/Images/Images/0.jpg\",\n",
    "    limit=3,\n",
    "    output_folder=\"output\",\n",
    ")"
   ]
  },
  {
   "cell_type": "markdown",
   "metadata": {},
   "source": [
    "---"
   ]
  }
 ],
 "metadata": {
  "colab": {
   "provenance": []
  },
  "kernelspec": {
   "display_name": "gs",
   "language": "python",
   "name": "python3"
  },
  "language_info": {
   "codemirror_mode": {
    "name": "ipython",
    "version": 3
   },
   "file_extension": ".py",
   "mimetype": "text/x-python",
   "name": "python",
   "nbconvert_exporter": "python",
   "pygments_lexer": "ipython3",
   "version": "3.10.18"
  }
 },
 "nbformat": 4,
 "nbformat_minor": 0
}

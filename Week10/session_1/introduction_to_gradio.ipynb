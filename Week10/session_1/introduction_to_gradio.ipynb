{
  "cells": [
    {
      "cell_type": "markdown",
      "metadata": {
        "id": "L4kW0SJX-1Mr"
      },
      "source": [
        "# Introduction to Gradio\n",
        "\n",
        "[View on Google Colab](https://colab.research.google.com/drive/13d7MRgylFJZ9NCrfLeK0_mD1nh_Qx3d7?usp=sharing)"
      ]
    },
    {
      "cell_type": "markdown",
      "metadata": {
        "id": "ApFbRaHIIAG9"
      },
      "source": [
        "## Import the Libraries"
      ]
    },
    {
      "cell_type": "code",
      "execution_count": 1,
      "metadata": {
        "id": "iZRgczDPCmNR"
      },
      "outputs": [],
      "source": [
        "import gradio as gr\n",
        "import pandas as pd\n",
        "\n",
        "import matplotlib.pyplot as plt\n",
        "import numpy as np\n",
        "\n",
        "import time"
      ]
    },
    {
      "cell_type": "markdown",
      "metadata": {
        "id": "cHWZvFMrICHN"
      },
      "source": [
        "---"
      ]
    },
    {
      "cell_type": "markdown",
      "metadata": {
        "id": "YfYBtPOH-4EI"
      },
      "source": [
        "## Hello World App"
      ]
    },
    {
      "cell_type": "code",
      "execution_count": 2,
      "metadata": {
        "colab": {
          "base_uri": "https://localhost:8080/",
          "height": 591
        },
        "id": "p2BgdZyM-u8d",
        "outputId": "be629542-4a86-489d-9dd2-057e17f15323"
      },
      "outputs": [
        {
          "name": "stdout",
          "output_type": "stream",
          "text": [
            "* Running on local URL:  http://127.0.0.1:7860\n",
            "* Running on public URL: https://9ed7ead4ed1f35e27f.gradio.live\n",
            "\n",
            "This share link expires in 1 week. For free permanent hosting and GPU upgrades, run `gradio deploy` from the terminal in the working directory to deploy to Hugging Face Spaces (https://huggingface.co/spaces)\n"
          ]
        },
        {
          "data": {
            "text/html": [
              "<div><iframe src=\"https://9ed7ead4ed1f35e27f.gradio.live\" width=\"100%\" height=\"500\" allow=\"autoplay; camera; microphone; clipboard-read; clipboard-write;\" frameborder=\"0\" allowfullscreen></iframe></div>"
            ],
            "text/plain": [
              "<IPython.core.display.HTML object>"
            ]
          },
          "metadata": {},
          "output_type": "display_data"
        },
        {
          "data": {
            "text/plain": []
          },
          "execution_count": 2,
          "metadata": {},
          "output_type": "execute_result"
        }
      ],
      "source": [
        "def greet(name):\n",
        "    return f\"Hello, {name}!\"\n",
        "\n",
        "demo = gr.Interface(fn=greet, inputs=\"text\", outputs=\"text\")\n",
        "demo.launch(share=True)"
      ]
    },
    {
      "cell_type": "markdown",
      "metadata": {
        "id": "1DwpMNw7IDSz"
      },
      "source": [
        "---"
      ]
    },
    {
      "cell_type": "markdown",
      "metadata": {
        "id": "o9Org74OCcFD"
      },
      "source": [
        "## Interface vs Blocks"
      ]
    },
    {
      "cell_type": "markdown",
      "metadata": {
        "id": "9bdfoE_CC6ii"
      },
      "source": [
        "### Interface"
      ]
    },
    {
      "cell_type": "code",
      "execution_count": 3,
      "metadata": {
        "colab": {
          "base_uri": "https://localhost:8080/",
          "height": 591
        },
        "id": "cQH6nIax-7YG",
        "outputId": "64e0bafd-3d0c-4972-b31f-8dc56fa1793a"
      },
      "outputs": [
        {
          "name": "stdout",
          "output_type": "stream",
          "text": [
            "* Running on local URL:  http://127.0.0.1:7861\n",
            "* Running on public URL: https://6e0ab2c70d62ba0d68.gradio.live\n",
            "\n",
            "This share link expires in 1 week. For free permanent hosting and GPU upgrades, run `gradio deploy` from the terminal in the working directory to deploy to Hugging Face Spaces (https://huggingface.co/spaces)\n"
          ]
        },
        {
          "data": {
            "text/html": [
              "<div><iframe src=\"https://6e0ab2c70d62ba0d68.gradio.live\" width=\"100%\" height=\"500\" allow=\"autoplay; camera; microphone; clipboard-read; clipboard-write;\" frameborder=\"0\" allowfullscreen></iframe></div>"
            ],
            "text/plain": [
              "<IPython.core.display.HTML object>"
            ]
          },
          "metadata": {},
          "output_type": "display_data"
        },
        {
          "data": {
            "text/plain": []
          },
          "execution_count": 3,
          "metadata": {},
          "output_type": "execute_result"
        }
      ],
      "source": [
        "def square(x):\n",
        "    return x ** 2\n",
        "\n",
        "demo = gr.Interface(fn=square, inputs=\"number\", outputs=\"number\")\n",
        "demo.launch(share=True)"
      ]
    },
    {
      "cell_type": "markdown",
      "metadata": {
        "id": "8Ay32zWuC82T"
      },
      "source": [
        "### Blocks"
      ]
    },
    {
      "cell_type": "code",
      "execution_count": null,
      "metadata": {
        "colab": {
          "base_uri": "https://localhost:8080/",
          "height": 646
        },
        "id": "D-1gDdY4Ch5J",
        "outputId": "81c06f09-7f79-4885-8c86-0bab912a3965"
      },
      "outputs": [
        {
          "name": "stdout",
          "output_type": "stream",
          "text": [
            "* Running on local URL:  http://127.0.0.1:7862\n",
            "* Running on public URL: https://6d75bb70acc3886ccb.gradio.live\n",
            "\n",
            "This share link expires in 1 week. For free permanent hosting and GPU upgrades, run `gradio deploy` from the terminal in the working directory to deploy to Hugging Face Spaces (https://huggingface.co/spaces)\n"
          ]
        },
        {
          "data": {
            "text/html": [
              "<div><iframe src=\"https://6d75bb70acc3886ccb.gradio.live\" width=\"100%\" height=\"500\" allow=\"autoplay; camera; microphone; clipboard-read; clipboard-write;\" frameborder=\"0\" allowfullscreen></iframe></div>"
            ],
            "text/plain": [
              "<IPython.core.display.HTML object>"
            ]
          },
          "metadata": {},
          "output_type": "display_data"
        },
        {
          "data": {
            "text/plain": []
          },
          "execution_count": 4,
          "metadata": {},
          "output_type": "execute_result"
        }
      ],
      "source": [
        "with gr.Blocks() as demo:\n",
        "    input_num = gr.Number(label=\"Input\")\n",
        "    output_num = gr.Number(label=\"Squared Output\")\n",
        "    button = gr.Button(\"Compute\")\n",
        "\n",
        "    button.click(lambda x: x**2, inputs=input_num, outputs=output_num)\n",
        "\n",
        "demo.launch(share=True)"
      ]
    },
    {
      "cell_type": "markdown",
      "metadata": {
        "id": "IJHza-IdIEWb"
      },
      "source": [
        "---"
      ]
    },
    {
      "cell_type": "markdown",
      "metadata": {
        "id": "lgrNjYmrC2k8"
      },
      "source": [
        "## Gradio Input and Output Components"
      ]
    },
    {
      "cell_type": "markdown",
      "metadata": {
        "id": "GHoz9SasC_QQ"
      },
      "source": [
        "### Input"
      ]
    },
    {
      "cell_type": "code",
      "execution_count": 5,
      "metadata": {
        "colab": {
          "base_uri": "https://localhost:8080/",
          "height": 591
        },
        "id": "c3Lf28bKCzCp",
        "outputId": "5031f72d-bb44-4dad-c8f6-852fccf41196"
      },
      "outputs": [
        {
          "name": "stdout",
          "output_type": "stream",
          "text": [
            "* Running on local URL:  http://127.0.0.1:7863\n",
            "* Running on public URL: https://099368636c80de2d54.gradio.live\n",
            "\n",
            "This share link expires in 1 week. For free permanent hosting and GPU upgrades, run `gradio deploy` from the terminal in the working directory to deploy to Hugging Face Spaces (https://huggingface.co/spaces)\n"
          ]
        },
        {
          "data": {
            "text/html": [
              "<div><iframe src=\"https://099368636c80de2d54.gradio.live\" width=\"100%\" height=\"500\" allow=\"autoplay; camera; microphone; clipboard-read; clipboard-write;\" frameborder=\"0\" allowfullscreen></iframe></div>"
            ],
            "text/plain": [
              "<IPython.core.display.HTML object>"
            ]
          },
          "metadata": {},
          "output_type": "display_data"
        },
        {
          "data": {
            "text/plain": []
          },
          "execution_count": 5,
          "metadata": {},
          "output_type": "execute_result"
        }
      ],
      "source": [
        "def show_inputs(text, image, audio):\n",
        "    return f\"You said: {text}\", image, audio\n",
        "\n",
        "demo = gr.Interface(\n",
        "    fn=show_inputs,\n",
        "    inputs=[\n",
        "        gr.Textbox(label=\"Your Text\"),\n",
        "        gr.Image(label=\"Upload Image\"),\n",
        "        gr.Audio(label=\"Upload Audio\")\n",
        "    ],\n",
        "    outputs=[\"text\", \"image\", \"audio\"]\n",
        ")\n",
        "\n",
        "demo.launch(share=True)"
      ]
    },
    {
      "cell_type": "markdown",
      "metadata": {
        "id": "KiVYjx3zDATk"
      },
      "source": [
        "### Output"
      ]
    },
    {
      "cell_type": "code",
      "execution_count": 6,
      "metadata": {
        "colab": {
          "base_uri": "https://localhost:8080/",
          "height": 646
        },
        "id": "uYtgbEazDBRp",
        "outputId": "c977e3da-4920-4df6-ea23-fd9689a1a9c4"
      },
      "outputs": [
        {
          "name": "stdout",
          "output_type": "stream",
          "text": [
            "* Running on local URL:  http://127.0.0.1:7864\n",
            "* To create a public link, set `share=True` in `launch()`.\n"
          ]
        },
        {
          "data": {
            "text/html": [
              "<div><iframe src=\"http://127.0.0.1:7864/\" width=\"100%\" height=\"500\" allow=\"autoplay; camera; microphone; clipboard-read; clipboard-write;\" frameborder=\"0\" allowfullscreen></iframe></div>"
            ],
            "text/plain": [
              "<IPython.core.display.HTML object>"
            ]
          },
          "metadata": {},
          "output_type": "display_data"
        },
        {
          "data": {
            "text/plain": []
          },
          "execution_count": 6,
          "metadata": {},
          "output_type": "execute_result"
        }
      ],
      "source": [
        "def generate_outputs():\n",
        "    df = pd.DataFrame({\"A\": [1, 2], \"B\": [3, 4]})\n",
        "    markdown_text = \"**Bold Text Example**\"\n",
        "    return df, markdown_text\n",
        "\n",
        "demo = gr.Interface(\n",
        "    fn=generate_outputs,\n",
        "    inputs=None,\n",
        "    outputs=[gr.DataFrame(), gr.Markdown()]\n",
        ")\n",
        "\n",
        "demo.launch()"
      ]
    },
    {
      "cell_type": "code",
      "execution_count": 7,
      "metadata": {
        "colab": {
          "base_uri": "https://localhost:8080/",
          "height": 646
        },
        "id": "y0bRMeLHDBgv",
        "outputId": "f18ac4cb-ac4d-499e-e0a7-ce3fb7fcd411"
      },
      "outputs": [
        {
          "name": "stdout",
          "output_type": "stream",
          "text": [
            "* Running on local URL:  http://127.0.0.1:7865\n",
            "* Running on public URL: https://d32cb34b9b04a3f8da.gradio.live\n",
            "\n",
            "This share link expires in 1 week. For free permanent hosting and GPU upgrades, run `gradio deploy` from the terminal in the working directory to deploy to Hugging Face Spaces (https://huggingface.co/spaces)\n"
          ]
        },
        {
          "data": {
            "text/html": [
              "<div><iframe src=\"https://d32cb34b9b04a3f8da.gradio.live\" width=\"100%\" height=\"500\" allow=\"autoplay; camera; microphone; clipboard-read; clipboard-write;\" frameborder=\"0\" allowfullscreen></iframe></div>"
            ],
            "text/plain": [
              "<IPython.core.display.HTML object>"
            ]
          },
          "metadata": {},
          "output_type": "display_data"
        },
        {
          "data": {
            "text/plain": []
          },
          "execution_count": 7,
          "metadata": {},
          "output_type": "execute_result"
        }
      ],
      "source": [
        "def compute_and_plot(x):\n",
        "    squared = x ** 2\n",
        "\n",
        "    fig, ax = plt.subplots()\n",
        "    nums = np.arange(0, x+1)\n",
        "    ax.plot(nums, nums**2, marker='o')\n",
        "    ax.set_title(\"Square Numbers\")\n",
        "    ax.set_xlabel(\"Number\")\n",
        "    ax.set_ylabel(\"Squared Value\")\n",
        "\n",
        "    return squared, fig\n",
        "\n",
        "with gr.Blocks() as demo:\n",
        "    input_num = gr.Number(label=\"Input\")\n",
        "    output_num = gr.Number(label=\"Squared Output\")\n",
        "    plot_output = gr.Plot(label=\"Visualization\")\n",
        "    button = gr.Button(\"Compute\")\n",
        "\n",
        "    button.click(compute_and_plot, inputs=input_num, outputs=[output_num, plot_output])\n",
        "\n",
        "demo.launch(share=True)\n"
      ]
    },
    {
      "cell_type": "markdown",
      "metadata": {
        "id": "eAujRUirIHAl"
      },
      "source": [
        "---"
      ]
    },
    {
      "cell_type": "markdown",
      "metadata": {
        "id": "fMs9xMiVHSkF"
      },
      "source": [
        "## Events Handling"
      ]
    },
    {
      "cell_type": "code",
      "execution_count": 8,
      "metadata": {
        "colab": {
          "base_uri": "https://localhost:8080/",
          "height": 591
        },
        "id": "mFilcPgOFjiN",
        "outputId": "b506118b-cb58-44b4-e24a-51ba08bb4b6b"
      },
      "outputs": [
        {
          "name": "stdout",
          "output_type": "stream",
          "text": [
            "* Running on local URL:  http://127.0.0.1:7866\n",
            "* Running on public URL: https://8a92b8746d1bf7b5d9.gradio.live\n",
            "\n",
            "This share link expires in 1 week. For free permanent hosting and GPU upgrades, run `gradio deploy` from the terminal in the working directory to deploy to Hugging Face Spaces (https://huggingface.co/spaces)\n"
          ]
        },
        {
          "data": {
            "text/html": [
              "<div><iframe src=\"https://8a92b8746d1bf7b5d9.gradio.live\" width=\"100%\" height=\"500\" allow=\"autoplay; camera; microphone; clipboard-read; clipboard-write;\" frameborder=\"0\" allowfullscreen></iframe></div>"
            ],
            "text/plain": [
              "<IPython.core.display.HTML object>"
            ]
          },
          "metadata": {},
          "output_type": "display_data"
        },
        {
          "data": {
            "text/plain": []
          },
          "execution_count": 8,
          "metadata": {},
          "output_type": "execute_result"
        }
      ],
      "source": [
        "def on_click(name):\n",
        "    return f\"Clicked! Hello, {name}\"\n",
        "\n",
        "def on_change(name):\n",
        "    return f\"Changed to: {name}\"\n",
        "\n",
        "with gr.Blocks() as demo:\n",
        "    gr.Markdown(\"### Gradio Event Handling Demo\")\n",
        "\n",
        "    name_input = gr.Textbox(label=\"Enter your name\", interactive=True)\n",
        "    click_output = gr.Textbox(label=\"Click Output\")\n",
        "    change_output = gr.Textbox(label=\"Change Output\")\n",
        "\n",
        "    greet_btn = gr.Button(\"Click Me\")\n",
        "\n",
        "    # Events\n",
        "    greet_btn.click(on_click, inputs=name_input, outputs=click_output)\n",
        "    name_input.change(on_change, inputs=name_input, outputs=change_output)\n",
        "\n",
        "demo.launch(share=True)\n"
      ]
    },
    {
      "cell_type": "markdown",
      "metadata": {
        "id": "Vt9elARaII2Q"
      },
      "source": [
        "---"
      ]
    },
    {
      "cell_type": "markdown",
      "metadata": {
        "id": "rpw3zHk_IUl5"
      },
      "source": [
        "## Managing State and Data Flow"
      ]
    },
    {
      "cell_type": "code",
      "execution_count": 9,
      "metadata": {
        "colab": {
          "base_uri": "https://localhost:8080/",
          "height": 591
        },
        "id": "cKVQs3C3HZBM",
        "outputId": "e9d78629-8866-4c54-d9a9-5d03164310f3"
      },
      "outputs": [
        {
          "name": "stdout",
          "output_type": "stream",
          "text": [
            "* Running on local URL:  http://127.0.0.1:7867\n",
            "* Running on public URL: https://1eed084abc7f650ecc.gradio.live\n",
            "\n",
            "This share link expires in 1 week. For free permanent hosting and GPU upgrades, run `gradio deploy` from the terminal in the working directory to deploy to Hugging Face Spaces (https://huggingface.co/spaces)\n"
          ]
        },
        {
          "data": {
            "text/html": [
              "<div><iframe src=\"https://1eed084abc7f650ecc.gradio.live\" width=\"100%\" height=\"500\" allow=\"autoplay; camera; microphone; clipboard-read; clipboard-write;\" frameborder=\"0\" allowfullscreen></iframe></div>"
            ],
            "text/plain": [
              "<IPython.core.display.HTML object>"
            ]
          },
          "metadata": {},
          "output_type": "display_data"
        },
        {
          "data": {
            "text/plain": []
          },
          "execution_count": 9,
          "metadata": {},
          "output_type": "execute_result"
        }
      ],
      "source": [
        "def increment(counter):\n",
        "    counter += 1\n",
        "    show_message = counter >= 5\n",
        "    message = \"🎉 You've clicked 5 times!\" if show_message else \"\"\n",
        "    return (\n",
        "        counter,\n",
        "        f\"Counter: {counter}\",\n",
        "        gr.update(value=message, visible=show_message),\n",
        "        gr.update(visible=show_message, value=message)\n",
        "    )\n",
        "\n",
        "with gr.Blocks() as demo:\n",
        "    gr.Markdown(\"### State, Session & Conditional UI Demo\")\n",
        "\n",
        "    counter_state = gr.State(0)\n",
        "\n",
        "    counter_text = gr.Textbox(label=\"Current Count\", interactive=False)\n",
        "    message_box = gr.Textbox(label=\"Milestone Message\", interactive=False, visible=False)\n",
        "    milestone_text = gr.Markdown(visible=False)\n",
        "    click_btn = gr.Button(\"Click Me\")\n",
        "\n",
        "    click_btn.click(\n",
        "        increment,\n",
        "        inputs=counter_state,\n",
        "        outputs=[counter_state, counter_text, message_box, milestone_text]\n",
        "    )\n",
        "\n",
        "demo.launch(share=True)"
      ]
    },
    {
      "cell_type": "markdown",
      "metadata": {
        "id": "-oNdoDidJEN6"
      },
      "source": [
        "---"
      ]
    },
    {
      "cell_type": "markdown",
      "metadata": {
        "id": "SpHP18pYK3pB"
      },
      "source": [
        "## Blocks"
      ]
    },
    {
      "cell_type": "code",
      "execution_count": 10,
      "metadata": {
        "colab": {
          "base_uri": "https://localhost:8080/",
          "height": 591
        },
        "id": "wTW6sX2RIZsE",
        "outputId": "01e8e9d4-fd04-4f43-8902-b484cd0f509d"
      },
      "outputs": [
        {
          "name": "stdout",
          "output_type": "stream",
          "text": [
            "* Running on local URL:  http://127.0.0.1:7868\n",
            "* Running on public URL: https://8c4e06ef18628fe3e1.gradio.live\n",
            "\n",
            "This share link expires in 1 week. For free permanent hosting and GPU upgrades, run `gradio deploy` from the terminal in the working directory to deploy to Hugging Face Spaces (https://huggingface.co/spaces)\n"
          ]
        },
        {
          "data": {
            "text/html": [
              "<div><iframe src=\"https://8c4e06ef18628fe3e1.gradio.live\" width=\"100%\" height=\"500\" allow=\"autoplay; camera; microphone; clipboard-read; clipboard-write;\" frameborder=\"0\" allowfullscreen></iframe></div>"
            ],
            "text/plain": [
              "<IPython.core.display.HTML object>"
            ]
          },
          "metadata": {},
          "output_type": "display_data"
        },
        {
          "data": {
            "text/plain": []
          },
          "execution_count": 10,
          "metadata": {},
          "output_type": "execute_result"
        }
      ],
      "source": [
        "with gr.Blocks() as demo:\n",
        "    with gr.Row():\n",
        "        name = gr.Textbox(label=\"Name\")\n",
        "        age = gr.Number(label=\"Age\")\n",
        "    greet_btn = gr.Button(\"Greet\")\n",
        "    output = gr.Textbox()\n",
        "\n",
        "    greet_btn.click(lambda n, a: f\"Hello {n}, you're {a}!\", [name, age], output)\n",
        "\n",
        "demo.launch(share=True)"
      ]
    },
    {
      "cell_type": "markdown",
      "metadata": {
        "id": "xvSHvSfwLK5X"
      },
      "source": [
        "---"
      ]
    },
    {
      "cell_type": "code",
      "execution_count": 11,
      "metadata": {
        "colab": {
          "base_uri": "https://localhost:8080/",
          "height": 591
        },
        "id": "M_Mxzrj6LozJ",
        "outputId": "a243ae6f-9732-4264-f36c-409b32bfed1c"
      },
      "outputs": [
        {
          "name": "stdout",
          "output_type": "stream",
          "text": [
            "* Running on local URL:  http://127.0.0.1:7869\n",
            "* Running on public URL: https://1a3c76ecb7f311a1fe.gradio.live\n",
            "\n",
            "This share link expires in 1 week. For free permanent hosting and GPU upgrades, run `gradio deploy` from the terminal in the working directory to deploy to Hugging Face Spaces (https://huggingface.co/spaces)\n"
          ]
        },
        {
          "data": {
            "text/html": [
              "<div><iframe src=\"https://1a3c76ecb7f311a1fe.gradio.live\" width=\"100%\" height=\"500\" allow=\"autoplay; camera; microphone; clipboard-read; clipboard-write;\" frameborder=\"0\" allowfullscreen></iframe></div>"
            ],
            "text/plain": [
              "<IPython.core.display.HTML object>"
            ]
          },
          "metadata": {},
          "output_type": "display_data"
        },
        {
          "data": {
            "text/plain": []
          },
          "execution_count": 11,
          "metadata": {},
          "output_type": "execute_result"
        }
      ],
      "source": [
        "def stream_response(text):\n",
        "    for word in text.split():\n",
        "        yield word + \" \"\n",
        "        time.sleep(0.3)\n",
        "\n",
        "demo = gr.Interface(\n",
        "    fn=stream_response,\n",
        "    inputs=gr.Textbox(label=\"Enter sentence\"),\n",
        "    outputs=gr.Textbox(label=\"Streaming Output\"),\n",
        "    live=True,\n",
        ")\n",
        "\n",
        "demo.launch(share=True)"
      ]
    }
  ],
  "metadata": {
    "colab": {
      "provenance": []
    },
    "kernelspec": {
      "display_name": "gs",
      "language": "python",
      "name": "python3"
    },
    "language_info": {
      "codemirror_mode": {
        "name": "ipython",
        "version": 3
      },
      "file_extension": ".py",
      "mimetype": "text/x-python",
      "name": "python",
      "nbconvert_exporter": "python",
      "pygments_lexer": "ipython3",
      "version": "3.10.18"
    }
  },
  "nbformat": 4,
  "nbformat_minor": 0
}

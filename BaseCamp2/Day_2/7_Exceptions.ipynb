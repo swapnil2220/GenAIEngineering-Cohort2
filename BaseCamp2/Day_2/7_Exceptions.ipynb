{
 "cells": [
  {
   "cell_type": "markdown",
   "metadata": {},
   "source": [
    "### Exception\n",
    "Error scenario that would occur at run time triggers an exception  \n",
    "If not handled, this will crash the program  \n",
    "Its handled with 'try' block"
   ]
  },
  {
   "cell_type": "code",
   "execution_count": null,
   "metadata": {},
   "outputs": [],
   "source": [
    "# Unhandled exception stops the prorgram execution abruptly\n",
    "my_list = [1, 2, 'three', 4.0]\n",
    "\n",
    "# Some part of program\n",
    "print (\"lines before the error \")\n",
    "\n",
    "# access out of bound\n",
    "x = my_list [100]\n",
    "\n",
    "# More program further\n",
    "print (\"more lines\")\n",
    "print (\"more and more more lines\")"
   ]
  },
  {
   "cell_type": "code",
   "execution_count": null,
   "metadata": {},
   "outputs": [],
   "source": [
    "# exception is handled, so gets back on track\n",
    "my_list = [1, 2, 'three', 4.0]\n",
    "\n",
    "# Some part of program\n",
    "print (\"lines before the error \")\n",
    "\n",
    "# Exception is handled within try block\n",
    "try :\n",
    "    # access out of bound\n",
    "    x = my_list [100]\n",
    "\n",
    "except Exception:\n",
    "    print (\"Error accessing list\")\n",
    "\n",
    "# More program further\n",
    "print (\"more lines\")\n",
    "print (\"more and more more lines\")"
   ]
  },
  {
   "cell_type": "code",
   "execution_count": 11,
   "metadata": {},
   "outputs": [],
   "source": [
    "# Some practical Usage. Exception handled in a function to make it robust\n",
    "def process_data (input):\n",
    "\n",
    "    try:\n",
    "\n",
    "        processed_data = ((input + 2) ** 1.24 ) * 3.2\n",
    "        return processed_data\n",
    "    \n",
    "    except Exception as e:\n",
    "        print (\"Error processing data : \", e)"
   ]
  },
  {
   "cell_type": "code",
   "execution_count": null,
   "metadata": {},
   "outputs": [],
   "source": [
    "# use the function that is robust\n",
    "my_list = [1, 2, 'Three', 4]\n",
    "\n",
    "for item in my_list :\n",
    "\n",
    "    ret = process_data (item)\n",
    "    print (ret)"
   ]
  },
  {
   "cell_type": "markdown",
   "metadata": {},
   "source": [
    "There are 2 specific clauses  \n",
    "'finally' : is a block that will executed at the end, regardless of exception occured or not  \n",
    "'else' : block gets executed if no exception occured"
   ]
  },
  {
   "cell_type": "code",
   "execution_count": null,
   "metadata": {},
   "outputs": [],
   "source": [
    "# Loop with exception handled block inside\n",
    "my_list = [1, 'two', 3.0]\n",
    "\n",
    "for item in my_list:\n",
    "\n",
    "    try:\n",
    "\n",
    "        print (\"Some operation before ..\")\n",
    "        print (item + 2 * 3.1)\n",
    "        print (\"Some operation after ..\")\n",
    "    \n",
    "    except Exception as e:\n",
    "        print (\"Error occured : \",e)\n",
    "    \n",
    "    finally:\n",
    "        print (\"This is always default end ...!\\n\")\n",
    "\n"
   ]
  },
  {
   "cell_type": "code",
   "execution_count": null,
   "metadata": {},
   "outputs": [],
   "source": [
    "# Loop with exception handled block inside\n",
    "my_list = [1, 'two', 3.0]\n",
    "\n",
    "for item in my_list:\n",
    "\n",
    "    try:\n",
    "\n",
    "        print (\"Some operation before ..\")\n",
    "        print (item + 2 * 3.1)\n",
    "        print (\"Some operation after ..\")\n",
    "    \n",
    "    except Exception as e:\n",
    "        print (\"Error occured : \",e)\n",
    "    \n",
    "    else:\n",
    "        print (\"This executes if no exception ...!\\n\")"
   ]
  }
 ],
 "metadata": {
  "kernelspec": {
   "display_name": "Test_Env",
   "language": "python",
   "name": "python3"
  },
  "language_info": {
   "codemirror_mode": {
    "name": "ipython",
    "version": 3
   },
   "file_extension": ".py",
   "mimetype": "text/x-python",
   "name": "python",
   "nbconvert_exporter": "python",
   "pygments_lexer": "ipython3",
   "version": "3.12.8"
  }
 },
 "nbformat": 4,
 "nbformat_minor": 2
}

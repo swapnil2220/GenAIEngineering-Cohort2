{
 "cells": [
  {
   "cell_type": "markdown",
   "metadata": {},
   "source": [
    "### Tuple is a immutable collection of items \n",
    "Tuple when created with values, it is preserved in the order.  \n",
    "The elements cannot be changed after the creation. This makes a specific nature of tuple.  "
   ]
  },
  {
   "cell_type": "code",
   "execution_count": null,
   "metadata": {},
   "outputs": [],
   "source": [
    "# Creating a tuple\n",
    "point = (10, 20) # Like co-ords\n",
    "colors = (\"red\", \"amber\", \"green\") # like a RAG scale\n",
    "\n",
    "# Accessing elements\n",
    "x_coordinate = point[0]\n",
    "first_color = colors[1]\n",
    "\n",
    "print(x_coordinate, first_color)"
   ]
  },
  {
   "cell_type": "code",
   "execution_count": null,
   "metadata": {},
   "outputs": [],
   "source": [
    "# Tuple packing\n",
    "coordinates = 30, 40  # Creates a tuple (30, 40)\n",
    "\n",
    "# Tuple unpacking into individual variables\n",
    "x, y = coordinates \n",
    "\n",
    "print(f\"x: {x}, y: {y}\")"
   ]
  },
  {
   "cell_type": "code",
   "execution_count": null,
   "metadata": {},
   "outputs": [],
   "source": [
    "# Re-order variables easily using tuples\n",
    "a = 5\n",
    "b = 10\n",
    "c = 15\n",
    "\n",
    "# Pack and unpack, whcih can re-order\n",
    "x, y, z = b, c, a \n",
    "print(f\"x: {x}, y: {y}, z: {z}\")"
   ]
  },
  {
   "cell_type": "code",
   "execution_count": null,
   "metadata": {},
   "outputs": [],
   "source": [
    "# Tuple is used when there are multiple return variables from a function\n",
    "def Get_Data ():\n",
    "\n",
    "    return 2, 2.0, \"Two\"\n",
    "\n",
    "Ret = Get_Data ()\n",
    "print (type (Ret))\n",
    "print (Ret)\n"
   ]
  },
  {
   "cell_type": "code",
   "execution_count": null,
   "metadata": {},
   "outputs": [],
   "source": [
    "# Capture in individual variable by unpacking\n",
    "i, f, s = Get_Data ()\n",
    "print (\"Type of i : \", type (i), \" & Value of i : \",i)\n",
    "print (\"Type of f : \", type (f), \" & Value of f : \",f)\n",
    "print (\"Type of s : \", type (s), \" & Value of s : \",s)"
   ]
  },
  {
   "cell_type": "code",
   "execution_count": null,
   "metadata": {},
   "outputs": [],
   "source": [
    "# The tuple elements can be looped through\n",
    "record = (1, 'First', 1.0, 'Data')\n",
    "\n",
    "for item in record:\n",
    "    print (item)"
   ]
  },
  {
   "cell_type": "code",
   "execution_count": null,
   "metadata": {},
   "outputs": [],
   "source": [
    "# list of tuple can be more meaninful, where each tuple represents a fixed value combination\n",
    "points = [(1, 2, 2), (2, 1, 3), (3, 2, 6)] # Coord in xyz space\n",
    "\n",
    "for x, y, z in points:\n",
    "    print(f\"x: {x}, y: {y}, z: {z}\")"
   ]
  }
 ],
 "metadata": {
  "kernelspec": {
   "display_name": "Test_Env",
   "language": "python",
   "name": "python3"
  },
  "language_info": {
   "codemirror_mode": {
    "name": "ipython",
    "version": 3
   },
   "file_extension": ".py",
   "mimetype": "text/x-python",
   "name": "python",
   "nbconvert_exporter": "python",
   "pygments_lexer": "ipython3",
   "version": "3.12.8"
  }
 },
 "nbformat": 4,
 "nbformat_minor": 2
}

{
 "cells": [
  {
   "cell_type": "code",
   "execution_count": 1,
   "metadata": {},
   "outputs": [],
   "source": [
    "import numpy as np"
   ]
  },
  {
   "cell_type": "code",
   "execution_count": null,
   "metadata": {},
   "outputs": [],
   "source": [
    "# Creation of a simple array\n",
    "arr_1D = np.array ([1, 2, 3, 4, 5])\n",
    "print (arr_1D.shape)\n",
    "print (arr_1D.size)\n",
    "print (arr_1D)"
   ]
  },
  {
   "cell_type": "code",
   "execution_count": null,
   "metadata": {},
   "outputs": [],
   "source": [
    "# Creation of a 2D array\n",
    "arr_2D = np.array ([[1, 1, 1],[1, 2, 1], [1,3 ,1]])\n",
    "print (arr_2D.shape)\n",
    "print (arr_2D.size)\n",
    "print (arr_2D)"
   ]
  },
  {
   "cell_type": "code",
   "execution_count": null,
   "metadata": {},
   "outputs": [],
   "source": [
    "# Accessing the array index. Note the diff between a list access\n",
    "x = arr_2D[1,1]\n",
    "print (type(x))\n",
    "print (x)\n",
    "\n",
    "# Get a row completely\n",
    "r = arr_2D [1, :]\n",
    "print (type(r))\n",
    "print (r)\n",
    "\n",
    "# Get a column completely\n",
    "c = arr_2D [:, 1]\n",
    "print (type(c))\n",
    "print (c)"
   ]
  },
  {
   "cell_type": "code",
   "execution_count": null,
   "metadata": {},
   "outputs": [],
   "source": [
    "# Create a multi-dimension array with random values\n",
    "# Its a 6 dimensional array of random numbers, with each dimension length different\n",
    "arr_mD = np.random.rand (12, 10, 8, 20, 15, 40)\n",
    "\n",
    "print (arr_mD.shape)\n",
    "print (arr_mD.size)\n",
    "\n",
    "# Observe the dimensions ...\n",
    "print (arr_mD[0,0,0,0,0,:],'\\n')\n",
    "print (arr_mD[0,0,0,0,:,0], '\\n')\n",
    "print (arr_mD[2,3,1,4,4,3:15])"
   ]
  },
  {
   "cell_type": "code",
   "execution_count": null,
   "metadata": {},
   "outputs": [],
   "source": [
    "# Want to see complete array ?\n",
    "print (arr_mD)"
   ]
  },
  {
   "cell_type": "markdown",
   "metadata": {},
   "source": [
    "Since arrays are fixed in size, it cannot be extended on the go like list  \n",
    "However there are functions provided to add elements to the array  \n",
    "These functions return a new array"
   ]
  },
  {
   "cell_type": "code",
   "execution_count": null,
   "metadata": {},
   "outputs": [],
   "source": [
    "# Appending elements at the end of an existing array\n",
    "arr_2D = np.array ([[1,1,1], [1,2,1], [1,3,1]])\n",
    "print (arr_2D)\n",
    "\n",
    "# Add elements along axis 0 \n",
    "arr_2D_New = np.append (arr_2D, [[1,4,1]], axis=0)\n",
    "print (arr_2D_New)\n",
    "\n",
    "# Add elements along axis 1\n",
    "arr_2D_New = np.append (arr_2D, [[1],[4],[1]], axis=1)\n",
    "print (arr_2D_New)"
   ]
  },
  {
   "cell_type": "code",
   "execution_count": null,
   "metadata": {},
   "outputs": [],
   "source": [
    "# Concatenate function can be used to merge multiple arrays into one\n",
    "arr_1 = np.array ([[1,1], [1,2]])\n",
    "arr_2 = np.array ([[2,1], [2,2]])\n",
    "\n",
    "print (arr_1, '\\n\\n', arr_2, '\\n\\n')\n",
    "\n",
    "arr_3 = np.concatenate ((arr_1, arr_2), axis=0)\n",
    "print (arr_3)"
   ]
  },
  {
   "cell_type": "markdown",
   "metadata": {},
   "source": [
    "Array can be re-shaped in terms of dimension & length by reshape method  \n",
    "The elements are re-arranged to the suit the required dimension, without changing the order  \n",
    "That means total number of elements will have to match to the dimension and length"
   ]
  },
  {
   "cell_type": "code",
   "execution_count": null,
   "metadata": {},
   "outputs": [],
   "source": [
    "# Make an one dimensional array in 2D array\n",
    "arr = np.array ([1,2,3,4,5,6,7,8,9,10,11,12])\n",
    "print (arr.shape)\n",
    "print (arr)\n",
    "\n",
    "# Reshape it into 2D\n",
    "arr_2D = arr.reshape ((3,4))\n",
    "print (arr_2D.shape)\n",
    "print (arr_2D)"
   ]
  },
  {
   "cell_type": "code",
   "execution_count": null,
   "metadata": {},
   "outputs": [],
   "source": [
    "# Reshape as 2D but diff length\n",
    "arr_2D = arr.reshape ((4,3))\n",
    "print (arr_2D.shape)\n",
    "print (arr_2D)"
   ]
  },
  {
   "cell_type": "code",
   "execution_count": null,
   "metadata": {},
   "outputs": [],
   "source": [
    "# Reshape as 3D to match the total number of elements\n",
    "arr_3D = arr.reshape ((2, 2, 3))\n",
    "print (arr_3D.shape)\n",
    "print (arr_3D)"
   ]
  },
  {
   "cell_type": "markdown",
   "metadata": {},
   "source": [
    "Arithmatic, aggregation, scalar and other mathematical operations can be done using the numpy functions  \n",
    "Its done in vectorised way, hence faster"
   ]
  },
  {
   "cell_type": "code",
   "execution_count": null,
   "metadata": {},
   "outputs": [],
   "source": [
    "# Basic arithmatic operations\n",
    "arr_1 = np.array ([[1, 2], [3, 4]])\n",
    "arr_2 = np.array ([[5, 6], [7, 8]])\n",
    "\n",
    "print (\"Addition : \\n\", arr_1 + arr_2)\n",
    "print (\"Subtraction : \\n\", arr_1 - arr_2)\n",
    "print (\"Multiplication : \\n\", arr_1 * arr_2)\n",
    "print (\"Division : \\n\", arr_1 / arr_2)"
   ]
  },
  {
   "cell_type": "code",
   "execution_count": null,
   "metadata": {},
   "outputs": [],
   "source": [
    "# Scalar operations\n",
    "print (\"Scalar Addition : \\n\", arr_1 + 2)\n",
    "print (\"Scalar Multiplication : \\n\", arr_1 * 3.54)"
   ]
  },
  {
   "cell_type": "code",
   "execution_count": null,
   "metadata": {},
   "outputs": [],
   "source": [
    "# Aggregation functions can be made on the array\n",
    "print (\"Sum of Array Elements : \\n\", np.sum(arr_2))\n",
    "print (\"Mean of Array Elements : \\n\", np.mean(arr_2))\n",
    "print (\"Min of Array Elements : \\n\", np.min(arr_2))\n",
    "print (\"Max of Array Elements : \\n\", np.max(arr_2))"
   ]
  },
  {
   "cell_type": "code",
   "execution_count": null,
   "metadata": {},
   "outputs": [],
   "source": [
    "# Other Mathematical operations\n",
    "print (\"Square Root : \\n\", np.sqrt (arr_2))\n",
    "print (\"Sine value : \\n\", np.sin (arr_2))"
   ]
  }
 ],
 "metadata": {
  "kernelspec": {
   "display_name": "Test_2",
   "language": "python",
   "name": "python3"
  },
  "language_info": {
   "codemirror_mode": {
    "name": "ipython",
    "version": 3
   },
   "file_extension": ".py",
   "mimetype": "text/x-python",
   "name": "python",
   "nbconvert_exporter": "python",
   "pygments_lexer": "ipython3",
   "version": "3.12.8"
  }
 },
 "nbformat": 4,
 "nbformat_minor": 2
}

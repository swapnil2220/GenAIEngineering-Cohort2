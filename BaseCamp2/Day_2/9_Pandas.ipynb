{
 "cells": [
  {
   "cell_type": "markdown",
   "metadata": {},
   "source": [
    "### Pandas\n",
    "pandas a python library that is extensively used for data analytics, ML and other Data fields  \n",
    "It provides possibility to organise data into something called Dataframe, which acts as a table of data (2D)  \n",
    "It is organised into rows and columns with named indices"
   ]
  },
  {
   "cell_type": "code",
   "execution_count": 2,
   "metadata": {},
   "outputs": [],
   "source": [
    "import pandas as pd"
   ]
  },
  {
   "cell_type": "code",
   "execution_count": null,
   "metadata": {},
   "outputs": [],
   "source": [
    "# Create a data frame using the pandas function\n",
    "DF = pd.DataFrame ({\n",
    "                    'Name' : ['Vishnu', \"Ram\", 'Bharat'], \n",
    "                    'Id' : [234, 201, 78],\n",
    "                    'Course' : ['ML', 'GenAI', \"Python\"],\n",
    "                    'Batch' : ['C1', 'C2', 'C1']})\n",
    "DF"
   ]
  },
  {
   "cell_type": "code",
   "execution_count": null,
   "metadata": {},
   "outputs": [],
   "source": [
    "# Let us understand how is it organised\n",
    "print (\"Data type : \\n\", DF.dtypes)\n",
    "\n",
    "print (\"Index : \\n\", DF.index)\n",
    "\n",
    "print (\"Number of Records : \\n\", len(DF))\n",
    "\n",
    "print (\"Number of Fields : \\n\", len(DF.columns))"
   ]
  },
  {
   "cell_type": "code",
   "execution_count": null,
   "metadata": {},
   "outputs": [],
   "source": [
    "# Access specific Column\n",
    "Names = DF['Name']\n",
    "\n",
    "print (\"Type : \\n\", type (Names))\n",
    "print (\"Content : \\n\",  Names)"
   ]
  },
  {
   "cell_type": "code",
   "execution_count": null,
   "metadata": {},
   "outputs": [],
   "source": [
    "# Access specific Row\n",
    "Rec_1 = DF.iloc [1] # Access a row based on the index position\n",
    "\n",
    "print (\"Type : \\n\", type (Rec_1))\n",
    "print (\"Content : \\n\",  Rec_1)"
   ]
  },
  {
   "cell_type": "code",
   "execution_count": null,
   "metadata": {},
   "outputs": [],
   "source": [
    "# Make specific Column in a data frame\n",
    "Names = DF[['Name']]\n",
    "\n",
    "print (\"Type : \\n\", type (Names))\n",
    "print (\"Content : \\n\",  Names)"
   ]
  },
  {
   "cell_type": "code",
   "execution_count": null,
   "metadata": {},
   "outputs": [],
   "source": [
    "# Filter out rows based on condition\n",
    "Filtered = DF[DF['Batch'] == 'C1']\n",
    "Filtered"
   ]
  },
  {
   "cell_type": "code",
   "execution_count": null,
   "metadata": {},
   "outputs": [],
   "source": [
    "# Update an exising column values : just an assignment\n",
    "DF['Id'] = [145, 156, 88]\n",
    "DF"
   ]
  },
  {
   "cell_type": "code",
   "execution_count": null,
   "metadata": {},
   "outputs": [],
   "source": [
    "# Add another column, again just like a variable assignment\n",
    "DF ['Score'] = [78, 85, 80]\n",
    "DF"
   ]
  },
  {
   "cell_type": "code",
   "execution_count": null,
   "metadata": {},
   "outputs": [],
   "source": [
    "# Add Rows by concatenating\n",
    "new_rec = pd.DataFrame ({\n",
    "                        'Name' : ['Dileep', 'Phani'],\n",
    "                        'Id' : [101, 102],\n",
    "                        'Course' : ['GenAI', 'ML'],\n",
    "                        'Batch' : ['C1', 'C2'],\n",
    "                        'Score' : [80, 75]\n",
    "})\n",
    "new_rec"
   ]
  },
  {
   "cell_type": "code",
   "execution_count": null,
   "metadata": {},
   "outputs": [],
   "source": [
    "DF = pd.concat ([DF, new_rec], ignore_index=True)\n",
    "DF"
   ]
  },
  {
   "cell_type": "code",
   "execution_count": null,
   "metadata": {},
   "outputs": [],
   "source": [
    "# Aggregating functions. See how the column is accessed\n",
    "print (\"Min Score : \", DF.Score.min())\n",
    "print (\"Max Score : \", DF.Score.max())\n",
    "print (\"Mean Score : \", DF.Score.mean())\n",
    "print (\"Median Score : \", DF.Score.median())"
   ]
  },
  {
   "cell_type": "code",
   "execution_count": null,
   "metadata": {},
   "outputs": [],
   "source": [
    "# Check the Max score per course : Use Group by\n",
    "grp = DF.groupby ('Course') ['Score'].max ().rename (\"Max \")\n",
    "grp"
   ]
  },
  {
   "cell_type": "code",
   "execution_count": null,
   "metadata": {},
   "outputs": [],
   "source": [
    "# Read data from a CSV file into Data Frame\n",
    "Index_Data = pd.read_csv ('Index.csv')\n",
    "print (Index_Data.dtypes)"
   ]
  },
  {
   "cell_type": "code",
   "execution_count": null,
   "metadata": {},
   "outputs": [],
   "source": [
    "# Change the Date field to datetime type\n",
    "Index_Data['Date'] = pd.to_datetime(Index_Data['Date'])\n",
    "print (Index_Data.dtypes)\n",
    "Index_Data"
   ]
  },
  {
   "cell_type": "code",
   "execution_count": null,
   "metadata": {},
   "outputs": [],
   "source": [
    "# Identify the days where Close price is higher than open.\n",
    "# By filtering\n",
    "\n",
    "Green_Days = Index_Data.loc [Index_Data['Close'] > Index_Data ['Open'], :]\n",
    "print (len(Green_Days))\n",
    "Green_Days"
   ]
  },
  {
   "cell_type": "code",
   "execution_count": null,
   "metadata": {},
   "outputs": [],
   "source": [
    "# Identify the days where Close price is at least 0.5% higher than the Open price\n",
    "Proper_Green_Days = Index_Data [Index_Data['Close'] > (Index_Data ['Open'] * 1.005)]\n",
    "Proper_Green_Days = Proper_Green_Days.sort_values (by='Date')\n",
    "\n",
    "print (len(Proper_Green_Days))\n",
    "Proper_Green_Days"
   ]
  },
  {
   "cell_type": "code",
   "execution_count": null,
   "metadata": {},
   "outputs": [],
   "source": [
    "# Identify the Previous day close, by shifting\n",
    "Index_Data.sort_values (by='Date', inplace=True)\n",
    "Index_Data ['PDC'] = Index_Data['Close'].shift (1)\n",
    "Index_Data\n"
   ]
  },
  {
   "cell_type": "code",
   "execution_count": null,
   "metadata": {},
   "outputs": [],
   "source": [
    "# identify the gap up days (at least .5% from previous day close)\n",
    "Gap_Up_Days = Index_Data[Index_Data['Open'] > (Index_Data['PDC'] * 1.005)]\n",
    "print (len(Gap_Up_Days))\n",
    "Gap_Up_Days"
   ]
  }
 ],
 "metadata": {
  "kernelspec": {
   "display_name": "Test_2",
   "language": "python",
   "name": "python3"
  },
  "language_info": {
   "codemirror_mode": {
    "name": "ipython",
    "version": 3
   },
   "file_extension": ".py",
   "mimetype": "text/x-python",
   "name": "python",
   "nbconvert_exporter": "python",
   "pygments_lexer": "ipython3",
   "version": "3.12.8"
  }
 },
 "nbformat": 4,
 "nbformat_minor": 2
}

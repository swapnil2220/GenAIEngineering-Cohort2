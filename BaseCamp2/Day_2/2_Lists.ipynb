{
 "cells": [
  {
   "cell_type": "markdown",
   "metadata": {},
   "source": [
    "### List Comprehension \n",
    "List comprehension is used to create list from an expression on another iterable  \n",
    "Its a shortcut to create efficiently list  "
   ]
  },
  {
   "cell_type": "code",
   "execution_count": null,
   "metadata": {},
   "outputs": [],
   "source": [
    "# Transform a list into another list with some additonal operation\n",
    "numbers = [1, 2, 3, 4, 5]\n",
    "processed_num = [(num * 2) + 1 for num in numbers]\n",
    "\n",
    "print (processed_num)"
   ]
  },
  {
   "cell_type": "code",
   "execution_count": null,
   "metadata": {},
   "outputs": [],
   "source": [
    "# Filter a list with condition to make another list\n",
    "numbers = [1, 2, 3, 4, 5, 6, 7, 8, 9, 10]\n",
    "even_numbers = [x for x in numbers if x % 2 == 0]\n",
    "\n",
    "print(even_numbers)"
   ]
  },
  {
   "cell_type": "code",
   "execution_count": null,
   "metadata": {},
   "outputs": [],
   "source": [
    "# Conditional transformation of a list into another\n",
    "numbers = [1, 2, 3, 4, 5, 6, 7]\n",
    "modified_numbers = [x**2 if x % 2 == 0 else x for x in numbers]\n",
    "print(modified_numbers)"
   ]
  },
  {
   "cell_type": "code",
   "execution_count": null,
   "metadata": {},
   "outputs": [],
   "source": [
    "# Flattenning a list from multi dimension into single dimension\n",
    "matrix = [[1, 2, 3], [4, 5], [6, 7, 8, 9], [10]]\n",
    "flattened_list = [element for sublist in matrix for element in sublist]\n",
    "print(flattened_list) "
   ]
  },
  {
   "cell_type": "markdown",
   "metadata": {},
   "source": [
    "### Loop on list elements  \n",
    "Loop can be made on the list, where each element wise iteration is made"
   ]
  },
  {
   "cell_type": "code",
   "execution_count": null,
   "metadata": {},
   "outputs": [],
   "source": [
    "# Loop through each element of the list. See each item is treted same way irrespective of the type\n",
    "my_list = [1, 'two', 3, 4.0, 'five', [6, 6.0, 'six']]\n",
    "\n",
    "for item in my_list :\n",
    "    print (item)"
   ]
  },
  {
   "cell_type": "code",
   "execution_count": null,
   "metadata": {},
   "outputs": [],
   "source": [
    "# part of the list is iterated through\n",
    "for item in my_list [2:4]:\n",
    "    print (item)"
   ]
  },
  {
   "cell_type": "code",
   "execution_count": null,
   "metadata": {},
   "outputs": [],
   "source": [
    "# Loop through on list, while accessing its index and element\n",
    "my_list = ['Python', 'NLP', 'HF Models', 'LLM & Prompts']\n",
    "\n",
    "for index, item in enumerate (my_list):\n",
    "    print (\"Session \",index, \" is : \",item)"
   ]
  }
 ],
 "metadata": {
  "kernelspec": {
   "display_name": "Test_Env",
   "language": "python",
   "name": "python3"
  },
  "language_info": {
   "codemirror_mode": {
    "name": "ipython",
    "version": 3
   },
   "file_extension": ".py",
   "mimetype": "text/x-python",
   "name": "python",
   "nbconvert_exporter": "python",
   "pygments_lexer": "ipython3",
   "version": "3.12.8"
  }
 },
 "nbformat": 4,
 "nbformat_minor": 2
}

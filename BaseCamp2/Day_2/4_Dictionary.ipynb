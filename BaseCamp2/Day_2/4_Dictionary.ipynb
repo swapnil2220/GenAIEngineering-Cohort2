{
 "cells": [
  {
   "cell_type": "markdown",
   "metadata": {},
   "source": [
    "### Dictionary stores \"Key-Value\" pairs  \n",
    "Dict is a data structure where values are stored at 'named' indices  \n",
    "This helps for a meaningful access from an index  \n",
    "Create a dict by defining Key : Value pairs separated by comma in a curly barces  \n",
    "*Var_Dict = {k1 : v1, k2 : v2}*"
   ]
  },
  {
   "cell_type": "code",
   "execution_count": null,
   "metadata": {},
   "outputs": [],
   "source": [
    "# Create a simple dictionary and check the data\n",
    "participant = {'name' : 'Vishnu', 'role' : 'student', 'batch' : 'C2'}\n",
    "\n",
    "print (type(participant))\n",
    "print (participant)"
   ]
  },
  {
   "cell_type": "code",
   "execution_count": null,
   "metadata": {},
   "outputs": [],
   "source": [
    "# Access specific elements of the dict\n",
    "print (\"Participant Name : \", participant['name'])\n",
    "print (\"Pariticpant Role : \",participant.get ('role'))"
   ]
  },
  {
   "cell_type": "code",
   "execution_count": null,
   "metadata": {},
   "outputs": [],
   "source": [
    "# Elements can be added or modified without disturbing the order\n",
    "participant ['city'] = 'Bangalore'\n",
    "participant['batch'] = 'C3'\n",
    "\n",
    "print (participant)"
   ]
  },
  {
   "cell_type": "code",
   "execution_count": null,
   "metadata": {},
   "outputs": [],
   "source": [
    "# Start with empty dict. Use a loop on list to make it dict keys\n",
    "config_list = ['min', 'max', 'threshold', 'cutoff']\n",
    "default_val = 6.0\n",
    "config_dict = {}\n",
    "\n",
    "for idx in config_list :\n",
    "\n",
    "    config_dict [idx] = default_val\n",
    "\n",
    "print (config_dict)\n"
   ]
  },
  {
   "cell_type": "markdown",
   "metadata": {},
   "source": [
    "Dictionay has methods associated to it with specific purpose  \n",
    "keys, values, items, update, clear"
   ]
  },
  {
   "cell_type": "code",
   "execution_count": null,
   "metadata": {},
   "outputs": [],
   "source": [
    "# Use the keys, values and items\n",
    "print (config_dict.keys())\n",
    "print (config_dict.values())\n",
    "print (config_dict.items())"
   ]
  },
  {
   "cell_type": "markdown",
   "metadata": {},
   "source": [
    ">Loop through the dictionary elements  \n",
    ">It can be on values of index as well "
   ]
  },
  {
   "cell_type": "code",
   "execution_count": null,
   "metadata": {},
   "outputs": [],
   "source": [
    "# Loop through the dict using keys and update values\n",
    "values = [0.0, 100.0, 10.0, 60.0]\n",
    "\n",
    "for idx, val in zip(config_dict.keys (), values):\n",
    "\n",
    "    config_dict[idx] = val\n",
    "\n",
    "print (config_dict)"
   ]
  },
  {
   "cell_type": "code",
   "execution_count": null,
   "metadata": {},
   "outputs": [],
   "source": [
    "# Loop through the values\n",
    "for Val in config_dict.values () :\n",
    "\n",
    "    print (\"Value is : \", Val)"
   ]
  },
  {
   "cell_type": "code",
   "execution_count": null,
   "metadata": {},
   "outputs": [],
   "source": [
    "# Loop through both index and value\n",
    "for Idx, Val in config_dict.items ():\n",
    "\n",
    "    print (f\"Value at Index {Idx} is {Val}\")"
   ]
  },
  {
   "cell_type": "markdown",
   "metadata": {},
   "source": [
    "### Dict comprehension\n",
    "Dict comprehension is an short cut to define a dict which is based on an iterable "
   ]
  },
  {
   "cell_type": "code",
   "execution_count": null,
   "metadata": {},
   "outputs": [],
   "source": [
    "# Define a list and based on it make a dict using comprehension\n",
    "values = [1, 3, 6, 5, 8]\n",
    "scaled_values = {x : x*2.5 for x in values}\n",
    "print (scaled_values)"
   ]
  }
 ],
 "metadata": {
  "kernelspec": {
   "display_name": "Test_Env",
   "language": "python",
   "name": "python3"
  },
  "language_info": {
   "codemirror_mode": {
    "name": "ipython",
    "version": 3
   },
   "file_extension": ".py",
   "mimetype": "text/x-python",
   "name": "python",
   "nbconvert_exporter": "python",
   "pygments_lexer": "ipython3",
   "version": "3.12.8"
  }
 },
 "nbformat": 4,
 "nbformat_minor": 2
}

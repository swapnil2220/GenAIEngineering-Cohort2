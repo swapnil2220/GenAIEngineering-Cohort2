{
 "cells": [
  {
   "cell_type": "markdown",
   "metadata": {},
   "source": [
    "### String\n",
    "Python string provides some specific features, which are explored here"
   ]
  },
  {
   "cell_type": "code",
   "execution_count": null,
   "metadata": {},
   "outputs": [],
   "source": [
    "# String assignment and concatenation\n",
    "s1 = \"This is \"\n",
    "s2 = 'a'\n",
    "s3 = ' string'\n",
    "\n",
    "print (type (s1), type (s2), type (s3))\n",
    "\n",
    "# Concatenate, check type, content and length\n",
    "s4 = s1 + s2 + s3\n",
    "print (type (s4))\n",
    "print (len (s4))\n",
    "print (s4)"
   ]
  },
  {
   "cell_type": "code",
   "execution_count": null,
   "metadata": {},
   "outputs": [],
   "source": [
    "# String handles unicode characters as well\n",
    "welcome = \"Hello , 🌎!\"\n",
    "print (welcome)\n",
    "\n",
    "# Check the value\n",
    "welcome_utf = welcome.encode('utf-8')\n",
    "print (welcome_utf)\n",
    "\n",
    "# Check the size\n",
    "print (len (welcome), len (welcome_utf))"
   ]
  },
  {
   "cell_type": "code",
   "execution_count": null,
   "metadata": {},
   "outputs": [],
   "source": [
    "# String slicing is done based on the char positions\n",
    "Message = \"This is a message, which is not very long, but actually little long\"\n",
    "\n",
    "print (Message[1:3])\n",
    "print (Message[-5:-1])\n",
    "print (Message[:10])\n",
    "print (Message[5:])"
   ]
  },
  {
   "cell_type": "markdown",
   "metadata": {},
   "source": [
    "String functions are provided in python for specific string manipulation"
   ]
  },
  {
   "cell_type": "code",
   "execution_count": null,
   "metadata": {},
   "outputs": [],
   "source": [
    "# Change the case of string\n",
    "my_str = \"Its a Text Variable\"\n",
    "\n",
    "print (my_str.upper())\n",
    "print (my_str.lower())\n",
    "print (my_str.capitalize ())"
   ]
  },
  {
   "cell_type": "code",
   "execution_count": null,
   "metadata": {},
   "outputs": [],
   "source": [
    "#Remove the Leading and trailing spaces from the string\n",
    "my_str = \"       There are space before and after    \"\n",
    "print (my_str,'\\n', my_str.strip())"
   ]
  },
  {
   "cell_type": "code",
   "execution_count": null,
   "metadata": {},
   "outputs": [],
   "source": [
    "# Replace part of string with another string\n",
    "my_str = \"This is a string in a sentence.\"\n",
    "\n",
    "print (my_str.replace (\"string\", 'word'))"
   ]
  },
  {
   "cell_type": "code",
   "execution_count": null,
   "metadata": {},
   "outputs": [],
   "source": [
    "# Formatted string is used to construct a string with variable elements\n",
    "name = \"Vishnu\"\n",
    "role = \"Mentor\"\n",
    "\n",
    "print (f\"Person with name {name} plays a role of a {role}\")"
   ]
  }
 ],
 "metadata": {
  "kernelspec": {
   "display_name": "Test_Env",
   "language": "python",
   "name": "python3"
  },
  "language_info": {
   "codemirror_mode": {
    "name": "ipython",
    "version": 3
   },
   "file_extension": ".py",
   "mimetype": "text/x-python",
   "name": "python",
   "nbconvert_exporter": "python",
   "pygments_lexer": "ipython3",
   "version": "3.12.8"
  }
 },
 "nbformat": 4,
 "nbformat_minor": 2
}

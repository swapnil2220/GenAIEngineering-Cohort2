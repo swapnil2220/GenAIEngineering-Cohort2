{
 "cells": [
  {
   "cell_type": "markdown",
   "metadata": {},
   "source": [
    "### List creation and access of list elements \n",
    "List is created by providing comma seperated items contained in square bracket  \n",
    "Its dynamic typing (each element can be diff type) and dynamic sizing  \n",
    "It gives possiblity of list of list (multi dimension)"
   ]
  },
  {
   "cell_type": "code",
   "execution_count": null,
   "metadata": {},
   "outputs": [],
   "source": [
    "# A list with different type of variables as elements\n",
    "my_list = [1, 3.0, 'Word','x', ['This', 'is', 'inner', ['l', 'i', 's', 't']]]\n",
    "\n",
    "# Check the content, type and access of specific indices. Try accessing different elements\n",
    "print (\"List is : \", my_list)\n",
    "print (\"Type is : \", type (my_list))\n",
    "print (\"Size is : \", len (my_list))\n",
    "print (\"0th Element is : \", my_list[0]) # Like a typical 'array' indexing\n",
    "print (\"Last Element is : \", my_list[-1]) # to generalise in code the 'last' element"
   ]
  },
  {
   "cell_type": "code",
   "execution_count": null,
   "metadata": {},
   "outputs": [],
   "source": [
    "# Check the access of nested lists\n",
    "print (my_list[4][2])\n",
    "print (my_list[4][3][2])"
   ]
  },
  {
   "cell_type": "code",
   "execution_count": null,
   "metadata": {},
   "outputs": [],
   "source": [
    "# Try the following element access - Try one by one\n",
    "# print (my_list [-5])\n",
    "# print (my_list [10])\n",
    "# print (my_list[0][1])"
   ]
  },
  {
   "cell_type": "markdown",
   "metadata": {},
   "source": [
    "List elements are 'mutable', meaning values can be modified after creation (like a typical array element)  \n",
    "But note that there is no strict definition required"
   ]
  },
  {
   "cell_type": "code",
   "execution_count": null,
   "metadata": {},
   "outputs": [],
   "source": [
    "# Assign value at an index\n",
    "my_list [2] = '34.0'\n",
    "my_list [4][1] = 'was'\n",
    "print (my_list)"
   ]
  },
  {
   "cell_type": "code",
   "execution_count": null,
   "metadata": {},
   "outputs": [],
   "source": [
    "# Assign 'Beyond' the existing index and check\n",
    "my_list[5] = 'New'\n",
    "print (my_list)"
   ]
  },
  {
   "cell_type": "markdown",
   "metadata": {},
   "source": [
    "Slicing is a concept of accessing part of list  \n",
    "From a start index to end index can be indicated seperated by a colon :  \n",
    "Before and after : , if no number specified, considers from the beginning or till the end"
   ]
  },
  {
   "cell_type": "code",
   "execution_count": null,
   "metadata": {},
   "outputs": [],
   "source": [
    "# Access one part of list - Not how the indices are treated\n",
    "print (\"From an index to an Index :\", my_list[1:4])\n",
    "print (\"From the beginning to an Index :\", my_list[:4])\n",
    "print (\"From an index to end :\", my_list[2:])"
   ]
  },
  {
   "cell_type": "code",
   "execution_count": null,
   "metadata": {},
   "outputs": [],
   "source": [
    "# A slice of an list can be updated with another list\n",
    "my_list [1:3] = [35,23]\n",
    "print (my_list)"
   ]
  },
  {
   "cell_type": "code",
   "execution_count": null,
   "metadata": {},
   "outputs": [],
   "source": [
    "# This way it can strech or contract the list\n",
    "my_list [1:3] = [23, 45, 'New']\n",
    "print (\"Streched : \", my_list)\n",
    "\n",
    "my_list [1:4] = [23]\n",
    "print (\"Contracted : \", my_list)"
   ]
  },
  {
   "cell_type": "markdown",
   "metadata": {},
   "source": [
    "List replication is to have same element(s) of list for multiple size  "
   ]
  },
  {
   "cell_type": "code",
   "execution_count": null,
   "metadata": {},
   "outputs": [],
   "source": [
    "# A short list is replicted to created a longer one\n",
    "short = ['odd', 'even']\n",
    "long = short * 5\n",
    "print (long) "
   ]
  },
  {
   "cell_type": "markdown",
   "metadata": {},
   "source": [
    "### List Functions \n",
    "There are specific functions that operate on a list  \n",
    "Use the functions append, extend, insert, remove, sort"
   ]
  },
  {
   "cell_type": "code",
   "execution_count": null,
   "metadata": {},
   "outputs": [],
   "source": [
    "# Create a list\n",
    "new_list = [1, 2, 3, 4, 5]\n",
    "print (new_list)\n",
    "\n",
    "# append adds an element at the end\n",
    "new_list.append (6)\n",
    "print (new_list)\n",
    "\n",
    "# It Can append an element that is a list itself\n",
    "new_list.append ([7, 8])\n",
    "print (new_list)\n"
   ]
  },
  {
   "cell_type": "code",
   "execution_count": null,
   "metadata": {},
   "outputs": [],
   "source": [
    "# Extend - adds multiple elements at the end\n",
    "new_list.extend ([9, 10])\n",
    "print (new_list)\n",
    "\n",
    "# + acts as extend\n",
    "new_list = new_list + [11, 12]\n",
    "print (new_list)"
   ]
  },
  {
   "cell_type": "code",
   "execution_count": null,
   "metadata": {},
   "outputs": [],
   "source": [
    "# insert a value at a position\n",
    "new_list.insert (3, 45)\n",
    "print (new_list)\n",
    "\n",
    "# insert a list\n",
    "new_list.insert (5, [56, 78])\n",
    "print (new_list)"
   ]
  },
  {
   "cell_type": "code",
   "execution_count": null,
   "metadata": {},
   "outputs": [],
   "source": [
    "# Remove an element\n",
    "new_list.remove (4)\n",
    "print (new_list)"
   ]
  },
  {
   "cell_type": "code",
   "execution_count": null,
   "metadata": {},
   "outputs": [],
   "source": [
    "# Elements can be sorted\n",
    "new_list = [3, 7, 2, 0, 67]\n",
    "new_list.sort ()\n",
    "print (new_list)"
   ]
  },
  {
   "cell_type": "code",
   "execution_count": null,
   "metadata": {},
   "outputs": [],
   "source": [
    "# Elements can be reversed in order\n",
    "new_list = ['s', 'b', 'g', 'a', '45']\n",
    "new_list.reverse ()\n",
    "print (new_list)"
   ]
  }
 ],
 "metadata": {
  "kernelspec": {
   "display_name": "Test_Env",
   "language": "python",
   "name": "python3"
  },
  "language_info": {
   "codemirror_mode": {
    "name": "ipython",
    "version": 3
   },
   "file_extension": ".py",
   "mimetype": "text/x-python",
   "name": "python",
   "nbconvert_exporter": "python",
   "pygments_lexer": "ipython3",
   "version": "3.12.8"
  }
 },
 "nbformat": 4,
 "nbformat_minor": 2
}

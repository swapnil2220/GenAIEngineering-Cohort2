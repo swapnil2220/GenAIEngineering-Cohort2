{
 "cells": [
  {
   "cell_type": "markdown",
   "metadata": {},
   "source": [
    "### Iterator\n",
    "Iterator provides a way to access sequentially the elements of a set, without handling all elements at a time  \n",
    "Its like moving a cursor on the data set  \n",
    "This 'one at a time' appraoch makes it memory efficient and hence useful for large data set"
   ]
  },
  {
   "cell_type": "code",
   "execution_count": null,
   "metadata": {},
   "outputs": [],
   "source": [
    "# A iterable (list) is created and iter function is used to access the elements\n",
    "topics = ['py', 'nl', 'hf', 'llm', 'prompt', 'rag']\n",
    "\n",
    "i_topics = iter (topics)\n",
    "\n",
    "print (next(i_topics))\n",
    "print (next(i_topics))\n",
    "print (next(i_topics))"
   ]
  },
  {
   "cell_type": "code",
   "execution_count": null,
   "metadata": {},
   "outputs": [],
   "source": [
    "# Can be used in loop, where it handles the iter and gets the next element\n",
    "for item in i_topics:\n",
    "\n",
    "    print (item)"
   ]
  },
  {
   "cell_type": "code",
   "execution_count": null,
   "metadata": {},
   "outputs": [],
   "source": [
    "# Try what happens ..\n",
    "print (next(i_topics))"
   ]
  },
  {
   "cell_type": "markdown",
   "metadata": {},
   "source": [
    "### Generator\n",
    "Generator provides a way to have an iterator defined for an indefinite iterable  \n",
    "The resulting iterators treats upto 'yield' is one iteration"
   ]
  },
  {
   "cell_type": "code",
   "execution_count": 4,
   "metadata": {},
   "outputs": [],
   "source": [
    "# Function for generator\n",
    "def my_gen (limit : int) :\n",
    "\n",
    "    for idx in range (limit) :\n",
    "\n",
    "        print ('Some calculation ...')\n",
    "        \n",
    "        # Yield is like a 'return' in the context of the iterator\n",
    "        yield idx\n"
   ]
  },
  {
   "cell_type": "code",
   "execution_count": null,
   "metadata": {},
   "outputs": [],
   "source": [
    "# Call the function to get the iterator and use it\n",
    "g1 = my_gen (5)\n",
    "print (next(g1))\n"
   ]
  },
  {
   "cell_type": "code",
   "execution_count": null,
   "metadata": {},
   "outputs": [],
   "source": [
    "for item in g1 :\n",
    "    print (item)"
   ]
  }
 ],
 "metadata": {
  "kernelspec": {
   "display_name": "Test_Env",
   "language": "python",
   "name": "python3"
  },
  "language_info": {
   "codemirror_mode": {
    "name": "ipython",
    "version": 3
   },
   "file_extension": ".py",
   "mimetype": "text/x-python",
   "name": "python",
   "nbconvert_exporter": "python",
   "pygments_lexer": "ipython3",
   "version": "3.12.8"
  }
 },
 "nbformat": 4,
 "nbformat_minor": 2
}

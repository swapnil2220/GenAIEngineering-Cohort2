{
 "cells": [
  {
   "cell_type": "markdown",
   "id": "2266d1d9",
   "metadata": {},
   "source": [
    "# Python String Manipulation\n",
    "Most prompts are strings, you'd want to populate them with data, use strings as templates, combine strings, etc."
   ]
  },
  {
   "cell_type": "code",
   "execution_count": null,
   "id": "740d1767",
   "metadata": {},
   "outputs": [
    {
     "name": "stdout",
     "output_type": "stream",
     "text": [
      "joined with operator:\n",
      " Hello! this is an AI chatbot\n",
      "variblaes combined: Hellothis is an AI chatbot\n",
      "join method: Hello this is an AI chatbot\n",
      "extending a string with += operator Hello! this is an AI chatbot. Let's chat?\n",
      "new line with \\n: Hello! this is an AI chatbot. Let's chat?\n",
      "Let's chat?\n"
     ]
    }
   ],
   "source": [
    "# Combining Strings\n",
    "\n",
    "## Method 1: Simple + operator to join string\n",
    "ex1 = \"Hello! \" + \"this is an AI chatbot\"\n",
    "print(\"Method 1:\\n\", ex1)\n",
    "\n",
    "\n",
    "## Method 2: Same but with variables\n",
    "sample1 = \"Hello\"\n",
    "sample2 = \"this is an AI chatbot\"\n",
    "\n",
    "print(\"Method 2:\\n\", sample1 + \"\" + sample2)\n",
    "\n",
    "## Method 3: join method on empty string\n",
    "ex2 = \"\".join([\"Hello\", \" \", \"this is an AI chatbot\"])\n",
    "print(\"Method 2:\\n\", ex2)\n",
    "\n",
    "## Method 4: adding more lines\n",
    "ex1 += \". Let's chat?\"\n",
    "print(\"Method 4:\\n\", ex1)\n",
    "\n",
    "\n",
    "## New line\n",
    "ex1 += \"\\nLet's chat?\"\n",
    "print(\"new line with \\\\n:\", ex1)"
   ]
  },
  {
   "cell_type": "code",
   "execution_count": 46,
   "id": "b289a3ec",
   "metadata": {},
   "outputs": [
    {
     "name": "stdout",
     "output_type": "stream",
     "text": [
      "Hi Alice, ready to start?\n"
     ]
    }
   ],
   "source": [
    "# f-strings\n",
    "\n",
    "user = \"Alice\"\n",
    "prompt = f\"Hi {user}, ready to start?\"\n",
    "print(prompt)"
   ]
  },
  {
   "cell_type": "code",
   "execution_count": null,
   "id": "2b9604eb",
   "metadata": {},
   "outputs": [
    {
     "name": "stdout",
     "output_type": "stream",
     "text": [
      "Confidence: 87.31%\n",
      "Area is 28.27\n",
      "[2025-07-11 23:35Z]\n"
     ]
    }
   ],
   "source": [
    "# Expression Support\n",
    "# Anything inside { } is evalulated as python\n",
    "\n",
    "score = 0.8731\n",
    "prompt = f\"Confidence: {score:.2%}\"   # 'Confidence: 87.31%'\n",
    "print(prompt)\n",
    "\n",
    "\n",
    "import math, datetime as dt\n",
    "r = 3\n",
    "prompt = f\"Area is {math.pi*r*r:.2f}\"            # 28.27\n",
    "ts = f\"[{dt.datetime.utcnow():%Y-%m-%d %H:%MZ}]\"  # [2025-07-12 00:41Z]\n",
    "print(prompt)\n",
    "print(ts)"
   ]
  },
  {
   "cell_type": "code",
   "execution_count": 9,
   "id": "6d81852f",
   "metadata": {},
   "outputs": [
    {
     "name": "stdout",
     "output_type": "stream",
     "text": [
      "What is the capital of Spain? How big is it in population?\n"
     ]
    },
    {
     "data": {
      "text/plain": [
       "'What is the capital of France? How big is it in area?'"
      ]
     },
     "execution_count": 9,
     "metadata": {},
     "output_type": "execute_result"
    }
   ],
   "source": [
    "tmpl = \"What is the capital of {country}? How big is it in {metric}?\"\n",
    "query = tmpl.format(country=\"Spain\", metric=\"population\")\n",
    "print(query)\n",
    "\n",
    "# OR\n",
    "\n",
    "\"What is the capital of {country}? How big is it in {metric}?\".format(country=\"France\", metric=\"area\")"
   ]
  },
  {
   "cell_type": "code",
   "execution_count": 11,
   "id": "7b44cd37",
   "metadata": {},
   "outputs": [
    {
     "name": "stdout",
     "output_type": "stream",
     "text": [
      "Sidharth works as Engineer\n"
     ]
    }
   ],
   "source": [
    "params = {\"name\": \"Sidharth\", \"profession\": \"Engineer\"}\n",
    "prompt = \"{name} works as {profession}\".format_map(params)\n",
    "print(prompt)"
   ]
  },
  {
   "cell_type": "code",
   "execution_count": null,
   "id": "7aee4761",
   "metadata": {},
   "outputs": [
    {
     "name": "stdout",
     "output_type": "stream",
     "text": [
      "Dear Bob, your code is approved.\n",
      "Dear Sidharth, your code is $status.\n",
      "Dear Sidharth, your code is disapproved.\n"
     ]
    }
   ],
   "source": [
    "from string import Template\n",
    "tmpl = Template(\"Dear $name, your code is $status.\")\n",
    "prompt = tmpl.safe_substitute(name=\"Bob\", status=\"approved\")\n",
    "print(prompt)  # Output: Dear Bob, your code is approved.\n",
    "\n",
    "\n",
    "# Also supports partial mapping without raising error\n",
    "prompt2 = tmpl.safe_substitute(name=\"Sidharth\")\n",
    "print(prompt2)\n",
    "prompt3 = Template(prompt2).safe_substitute(status=\"disapproved\")\n",
    "print(prompt3)"
   ]
  },
  {
   "cell_type": "code",
   "execution_count": null,
   "id": "eb7f9cd8",
   "metadata": {},
   "outputs": [
    {
     "name": "stdout",
     "output_type": "stream",
     "text": [
      "\n",
      "### System\n",
      "You are an expert assistant.\n",
      "    ### User\n",
      "What is the capital of France?\n",
      "\n"
     ]
    }
   ],
   "source": [
    "# Preserve newlines & spaces with \"\"\"\n",
    "\n",
    "from textwrap import dedent\n",
    "\n",
    "user_msg=\"What is the capital of France?\"\n",
    "\n",
    "prompt = dedent(\"\"\"\n",
    "    ### System\n",
    "    You are an expert assistant.\n",
    "    ### User\n",
    "    {msg}\n",
    "    \"\"\").format(msg=user_msg)\n",
    "\n",
    "print(prompt)"
   ]
  },
  {
   "cell_type": "code",
   "execution_count": 19,
   "id": "1261cf9e",
   "metadata": {},
   "outputs": [
    {
     "name": "stdout",
     "output_type": "stream",
     "text": [
      "0042\n",
      "Option                        \n",
      "                        Option\n",
      "Option                        1\n",
      "1                        Option\n"
     ]
    }
   ],
   "source": [
    "# Padding & Alignment \n",
    "\n",
    "from typing import LiteralString\n",
    "\n",
    "\n",
    "id = 42\n",
    "label = f\"{id:04}\"        # '0042'\n",
    "padl: LiteralString  = \"{:<30}\".format(\"Option\")   # left-pad to width 30\n",
    "padr: LiteralString  = \"{:>30}\".format(\"Option\")   # right-pad to width 30\n",
    "\n",
    "\n",
    "\n",
    "print(label)\n",
    "print(padl)\n",
    "print(padr)\n",
    "\n",
    "print(padl + \"1\")\n",
    "print(\"1\" + padr)\n"
   ]
  },
  {
   "cell_type": "code",
   "execution_count": 20,
   "id": "491ea365",
   "metadata": {},
   "outputs": [
    {
     "name": "stdout",
     "output_type": "stream",
     "text": [
      "user_input = {\"name\": \"Sidharth\", \"designation\": \"Engineer\"}\n"
     ]
    }
   ],
   "source": [
    "import json\n",
    "snippet = json.dumps({\n",
    "    \"name\": \"Sidharth\",\n",
    "    \"designation\": \"Engineer\"\n",
    "    })          # escapes quotes / newlines\n",
    "prompt = f\"user_input = {snippet}\"\n",
    "print(prompt)"
   ]
  },
  {
   "cell_type": "code",
   "execution_count": 27,
   "id": "43e38bde",
   "metadata": {},
   "outputs": [
    {
     "name": "stdout",
     "output_type": "stream",
     "text": [
      "Paris is the capital of France. FRANCE has baguettes.\n",
      "Paris is the capital of USA. FRANCE has baguettes.\n",
      "Paris is the capital of USA. USA has baguettes.\n"
     ]
    }
   ],
   "source": [
    "# Regular Expressions\n",
    "import re\n",
    "\n",
    "text = \"Paris is the capital of France. FRANCE has baguettes.\"\n",
    "pattern = re.compile(r\"\\bfrance\\b\", flags=re.IGNORECASE)\n",
    "\n",
    "new_text = pattern.sub(\"USA\", text, count=1)  # first match only\n",
    "# 'Paris is the capital of USA. FRANCE has baguettes.'\n",
    "\n",
    "# Replace all occurrences:\n",
    "new_text_all = pattern.sub(\"USA\", text)\n",
    "# 'Paris is the capital of USA. USA has baguettes.'\n",
    "\n",
    "print(text)\n",
    "print(new_text)\n",
    "print(new_text_all)"
   ]
  }
 ],
 "metadata": {
  "kernelspec": {
   "display_name": ".venv",
   "language": "python",
   "name": "python3"
  },
  "language_info": {
   "codemirror_mode": {
    "name": "ipython",
    "version": 3
   },
   "file_extension": ".py",
   "mimetype": "text/x-python",
   "name": "python",
   "nbconvert_exporter": "python",
   "pygments_lexer": "ipython3",
   "version": "3.11.9"
  }
 },
 "nbformat": 4,
 "nbformat_minor": 5
}

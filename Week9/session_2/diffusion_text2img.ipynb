{
 "cells": [
  {
   "cell_type": "markdown",
   "metadata": {},
   "source": [
    "Text-to-Image Generation with Stable Diffusion\n",
    "==============================================\n",
    "\n",
    "[View on Google Colab](https://colab.research.google.com/drive/1DA2GPoR8rGgYOCgdTUDpX1eMxWKcWFVV?usp=sharing)"
   ]
  },
  {
   "cell_type": "markdown",
   "metadata": {},
   "source": [
    "### Import the necessary libraries"
   ]
  },
  {
   "cell_type": "code",
   "execution_count": 1,
   "metadata": {},
   "outputs": [],
   "source": [
    "#!pip install torch matplotlib pillow diffusers\n",
    "\n",
    "import torch\n",
    "import matplotlib.pyplot as plt\n",
    "from PIL import Image\n",
    "from diffusers import StableDiffusionPipeline"
   ]
  },
  {
   "cell_type": "markdown",
   "metadata": {},
   "source": [
    "---"
   ]
  },
  {
   "cell_type": "markdown",
   "metadata": {},
   "source": [
    "### Device Setup"
   ]
  },
  {
   "cell_type": "code",
   "execution_count": 2,
   "metadata": {},
   "outputs": [],
   "source": [
    "def setup_device():\n",
    "    \"\"\"Setup optimal device for diffusion models.\"\"\"\n",
    "    if torch.cuda.is_available():\n",
    "        return \"cuda\", torch.float16\n",
    "    elif torch.backends.mps.is_available():\n",
    "        return \"mps\", torch.float32\n",
    "    else:\n",
    "        return \"cpu\", torch.float32"
   ]
  },
  {
   "cell_type": "markdown",
   "metadata": {},
   "source": [
    "---"
   ]
  },
  {
   "cell_type": "markdown",
   "metadata": {},
   "source": [
    "### Text2Image Pipeline from HuggingFace"
   ]
  },
  {
   "cell_type": "code",
   "execution_count": 3,
   "metadata": {},
   "outputs": [],
   "source": [
    "def load_text2img_pipeline(device=\"cuda\", dtype=torch.float16):\n",
    "    \"\"\"Load Stable Diffusion pipeline for text-to-image generation.\"\"\"\n",
    "    pipe = StableDiffusionPipeline.from_pretrained(\n",
    "        \"runwayml/stable-diffusion-v1-5\",\n",
    "        torch_dtype=dtype,\n",
    "        safety_checker=None,\n",
    "        requires_safety_checker=False\n",
    "    )\n",
    "    pipe = pipe.to(device)\n",
    "    if hasattr(pipe, 'enable_attention_slicing'):\n",
    "        pipe.enable_attention_slicing()\n",
    "    return pipe\n"
   ]
  },
  {
   "cell_type": "markdown",
   "metadata": {},
   "source": [
    "---"
   ]
  },
  {
   "cell_type": "markdown",
   "metadata": {},
   "source": [
    "### Run Inference"
   ]
  },
  {
   "cell_type": "code",
   "execution_count": null,
   "metadata": {},
   "outputs": [],
   "source": [
    "def generate_image(pipe, prompt, seed=42):\n",
    "    \"\"\"Generate image from text prompt.\"\"\"\n",
    "    torch.manual_seed(seed)\n",
    "    if torch.cuda.is_available():\n",
    "        torch.cuda.manual_seed(seed)\n",
    "    \n",
    "    with torch.no_grad():\n",
    "        result = pipe(\n",
    "            prompt=prompt,\n",
    "            negative_prompt=\"blurry, low quality\",\n",
    "            num_inference_steps=20,\n",
    "            guidance_scale=7.5\n",
    "        )\n",
    "    return result.images[0]"
   ]
  },
  {
   "cell_type": "code",
   "execution_count": null,
   "metadata": {},
   "outputs": [],
   "source": [
    "def visualize_results(results):\n",
    "    \"\"\"Visualize generated images.\"\"\"\n",
    "    fig, axes = plt.subplots(1, len(results), figsize=(15, 5))\n",
    "    if len(results) == 1:\n",
    "        axes = [axes]\n",
    "\n",
    "    for i, (prompt, image) in enumerate(results):\n",
    "        axes[i].imshow(image)\n",
    "        axes[i].set_title(prompt[:40] + \"...\", fontsize=10)\n",
    "        axes[i].axis('off')\n",
    "\n",
    "    plt.tight_layout()\n",
    "    plt.show()"
   ]
  },
  {
   "cell_type": "code",
   "execution_count": null,
   "metadata": {},
   "outputs": [],
   "source": [
    "# Execute\n",
    "device, dtype = setup_device()\n",
    "pipe = load_text2img_pipeline(device, dtype)\n",
    "\n",
    "prompts = [\n",
    "    \"A majestic lion in a savanna at sunset\",\n",
    "    \"A futuristic city with flying cars\",\n",
    "    \"A serene mountain lake with reflection\"\n",
    "]\n",
    "\n",
    "results = []\n",
    "for i, prompt in enumerate(prompts):\n",
    "    image = generate_image(pipe, prompt, seed=42+i)\n",
    "    results.append((prompt, image))\n",
    "\n",
    "visualize_results(results)"
   ]
  },
  {
   "cell_type": "markdown",
   "metadata": {},
   "source": [
    "---"
   ]
  }
 ],
 "metadata": {
  "kernelspec": {
   "display_name": "gs",
   "language": "python",
   "name": "python3"
  },
  "language_info": {
   "codemirror_mode": {
    "name": "ipython",
    "version": 3
   },
   "file_extension": ".py",
   "mimetype": "text/x-python",
   "name": "python",
   "nbconvert_exporter": "python",
   "pygments_lexer": "ipython3",
   "version": "3.10.18"
  }
 },
 "nbformat": 4,
 "nbformat_minor": 2
}

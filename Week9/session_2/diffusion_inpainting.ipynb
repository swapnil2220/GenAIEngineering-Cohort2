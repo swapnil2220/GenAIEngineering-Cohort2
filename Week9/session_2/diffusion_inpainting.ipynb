{
 "cells": [
  {
   "cell_type": "markdown",
   "metadata": {},
   "source": [
    "Image Inpainting with Stable Diffusion\n",
    "=====================================\n",
    "\n",
    "[View on Google Colab](https://colab.research.google.com/drive/1H0hDErdyI_Qg5dpULRls8a8-3tOyhqMB?usp=sharing)"
   ]
  },
  {
   "cell_type": "markdown",
   "metadata": {},
   "source": [
    "### Import the necessary libraries"
   ]
  },
  {
   "cell_type": "code",
   "execution_count": 23,
   "metadata": {},
   "outputs": [],
   "source": [
    "# !pip install torch matplotlib pillow diffusers\n",
    "# !pip install \"numpy<2.0.0\"\n",
    "\n",
    "# Core imports\n",
    "import torch\n",
    "import numpy as np\n",
    "from typing import List, Tuple, Optional\n",
    "import matplotlib.pyplot as plt\n",
    "\n",
    "# Image processing\n",
    "from PIL import Image, ImageDraw\n",
    "import requests\n",
    "\n",
    "# Diffusion models\n",
    "from diffusers import (\n",
    "    StableDiffusionInpaintPipeline,\n",
    "    AutoPipelineForInpainting\n",
    ")"
   ]
  },
  {
   "cell_type": "markdown",
   "metadata": {},
   "source": [
    "---"
   ]
  },
  {
   "cell_type": "markdown",
   "metadata": {},
   "source": [
    "### Device Setup"
   ]
  },
  {
   "cell_type": "code",
   "execution_count": 24,
   "metadata": {},
   "outputs": [],
   "source": [
    "def setup_device():\n",
    "    \"\"\"Setup optimal device for diffusion models.\"\"\"\n",
    "    if torch.cuda.is_available():\n",
    "        return \"cuda\", torch.float16\n",
    "    elif torch.backends.mps.is_available():\n",
    "        return \"mps\", torch.float32\n",
    "    else:\n",
    "        return \"cpu\", torch.float32"
   ]
  },
  {
   "cell_type": "markdown",
   "metadata": {},
   "source": [
    "---"
   ]
  },
  {
   "cell_type": "markdown",
   "metadata": {},
   "source": [
    "### Load Image Inpainting Pipeline from HuggingFace"
   ]
  },
  {
   "cell_type": "code",
   "execution_count": 25,
   "metadata": {},
   "outputs": [],
   "source": [
    "def load_inpainting_pipeline(device=\"cuda\", dtype=torch.float16):\n",
    "    \"\"\"Load inpainting pipeline with alternative model.\"\"\"\n",
    "    pipe = StableDiffusionInpaintPipeline.from_pretrained(\n",
    "        \"Lykon/dreamshaper-8-inpainting\",\n",
    "        torch_dtype=dtype,\n",
    "        safety_checker=None,\n",
    "        requires_safety_checker=False\n",
    "    )\n",
    "    pipe = pipe.to(device)\n",
    "    \n",
    "    if hasattr(pipe, 'enable_attention_slicing'):\n",
    "        pipe.enable_attention_slicing()\n",
    "    return pipe"
   ]
  },
  {
   "cell_type": "markdown",
   "metadata": {},
   "source": [
    "---"
   ]
  },
  {
   "cell_type": "markdown",
   "metadata": {},
   "source": [
    "### Loading Image from URL or File Path"
   ]
  },
  {
   "cell_type": "code",
   "execution_count": 26,
   "metadata": {},
   "outputs": [],
   "source": [
    "def load_image_from_url(url: str) -> Image.Image:\n",
    "    \"\"\"\n",
    "    Load an image from a URL.\n",
    "    \n",
    "    Args:\n",
    "        url (str): URL of the image\n",
    "        \n",
    "    Returns:\n",
    "        Image.Image: PIL Image object\n",
    "    \"\"\"\n",
    "    try:\n",
    "        response = requests.get(url, stream=True)\n",
    "        response.raise_for_status()\n",
    "        image = Image.open(response.raw)\n",
    "        return image\n",
    "    except Exception as e:\n",
    "        print(f\"Error loading image from URL: {e}\")\n",
    "        raise\n",
    "\n",
    "\n",
    "def load_image_from_path(path: str) -> Image.Image:\n",
    "    \"\"\"\n",
    "    Load an image from a local file path.\n",
    "    \n",
    "    Args:\n",
    "        path (str): Path to the image file\n",
    "        \n",
    "    Returns:\n",
    "        Image.Image: PIL Image object\n",
    "    \"\"\"\n",
    "    try:\n",
    "        image = Image.open(path)\n",
    "        return image\n",
    "    except Exception as e:\n",
    "        print(f\"Error loading image from path: {e}\")\n",
    "        raise\n"
   ]
  },
  {
   "cell_type": "markdown",
   "metadata": {},
   "source": [
    "---"
   ]
  },
  {
   "cell_type": "markdown",
   "metadata": {},
   "source": [
    "### Custom Mask Generation"
   ]
  },
  {
   "cell_type": "code",
   "execution_count": 27,
   "metadata": {},
   "outputs": [],
   "source": [
    "def create_circular_mask(image, center, radius):\n",
    "    \"\"\"Create a circular mask for inpainting.\"\"\"\n",
    "    mask = Image.new(\"L\", image.size, 0)\n",
    "    draw = ImageDraw.Draw(mask)\n",
    "    left = center[0] - radius\n",
    "    top = center[1] - radius\n",
    "    right = center[0] + radius\n",
    "    bottom = center[1] + radius\n",
    "    draw.ellipse([left, top, right, bottom], fill=255)\n",
    "    return mask\n",
    "\n",
    "\n",
    "def create_rectangular_mask(image: Image.Image, bbox: Tuple[int, int, int, int]) -> Image.Image:\n",
    "    \"\"\"\n",
    "    Create a rectangular mask for inpainting.\n",
    "    \n",
    "    Args:\n",
    "        image (Image.Image): Input image\n",
    "        bbox (Tuple[int, int, int, int]): Bounding box (left, top, right, bottom)\n",
    "        \n",
    "    Returns:\n",
    "        Image.Image: Binary mask image\n",
    "    \"\"\"\n",
    "    mask = Image.new(\"L\", image.size, 0)\n",
    "    draw = ImageDraw.Draw(mask)\n",
    "    \n",
    "    # Draw white rectangle on black background\n",
    "    draw.rectangle(bbox, fill=255)\n",
    "    \n",
    "    return mask\n",
    "\n",
    "\n",
    "def create_custom_mask(image: Image.Image, mask_type: str = \"center_circle\") -> Image.Image:\n",
    "    \"\"\"\n",
    "    Create various types of masks for inpainting.\n",
    "    \n",
    "    Args:\n",
    "        image (Image.Image): Input image\n",
    "        mask_type (str): Type of mask to create\n",
    "        \n",
    "    Returns:\n",
    "        Image.Image: Binary mask image\n",
    "    \"\"\"\n",
    "    width, height = image.size\n",
    "    \n",
    "    if mask_type == \"center_circle\":\n",
    "        return create_circular_mask(image, (width//2, height//2), min(width, height)//6)\n",
    "    elif mask_type == \"large_circle\":\n",
    "        return create_circular_mask(image, (width//2, height//2), min(width, height)//4)\n",
    "    elif mask_type == \"top_left\":\n",
    "        return create_rectangular_mask(image, (0, 0, width//3, height//3))\n",
    "    elif mask_type == \"center_square\":\n",
    "        size = min(width, height) // 3\n",
    "        left = (width - size) // 2\n",
    "        top = (height - size) // 2\n",
    "        return create_rectangular_mask(image, (left, top, left + size, top + size))\n",
    "    elif mask_type == \"bottom_strip\":\n",
    "        return create_rectangular_mask(image, (0, height*3//4, width, height))\n",
    "    else:\n",
    "        # Default to center circle\n",
    "        return create_circular_mask(image, (width//2, height//2), min(width, height)//6)\n"
   ]
  },
  {
   "cell_type": "markdown",
   "metadata": {},
   "source": [
    "---"
   ]
  },
  {
   "cell_type": "markdown",
   "metadata": {},
   "source": [
    "### Run Inference"
   ]
  },
  {
   "cell_type": "code",
   "execution_count": 28,
   "metadata": {},
   "outputs": [],
   "source": [
    "def inpaint_image(pipe, image, mask, prompt, seed=42):\n",
    "    \"\"\"Fill masked regions based on text prompt.\"\"\"\n",
    "    torch.manual_seed(seed)\n",
    "    if torch.cuda.is_available():\n",
    "        torch.cuda.manual_seed(seed)\n",
    "    \n",
    "    image = image.resize((512, 512))\n",
    "    mask = mask.resize((512, 512))\n",
    "    \n",
    "    with torch.no_grad():\n",
    "        result = pipe(\n",
    "            prompt=prompt,\n",
    "            image=image,\n",
    "            mask_image=mask,\n",
    "            negative_prompt=\"blurry, low quality\",\n",
    "            num_inference_steps=20,\n",
    "            guidance_scale=7.5\n",
    "        )\n",
    "    return result.images[0]"
   ]
  },
  {
   "cell_type": "markdown",
   "metadata": {},
   "source": [
    "---"
   ]
  },
  {
   "cell_type": "code",
   "execution_count": 29,
   "metadata": {},
   "outputs": [],
   "source": [
    "def visualize_results(base_image, mask, results):\n",
    "    \"\"\"Visualize inpainting results.\"\"\"\n",
    "    fig, axes = plt.subplots(3, len(results) + 1, figsize=(16, 10))\n",
    "    \n",
    "    # Show original and mask in first column\n",
    "    axes[0, 0].imshow(base_image)\n",
    "    axes[0, 0].set_title(\"Original\", fontsize=10)\n",
    "    axes[0, 0].axis('off')\n",
    "    \n",
    "    axes[1, 0].imshow(mask, cmap='gray')\n",
    "    axes[1, 0].set_title(\"Mask\", fontsize=10)\n",
    "    axes[1, 0].axis('off')\n",
    "    \n",
    "    # Create overlay\n",
    "    overlay = base_image.copy()\n",
    "    overlay_array = np.array(overlay)\n",
    "    mask_array = np.array(mask)\n",
    "    overlay_array[mask_array > 128] = [255, 100, 100]\n",
    "    overlay = Image.fromarray(overlay_array)\n",
    "    \n",
    "    axes[2, 0].imshow(overlay)\n",
    "    axes[2, 0].set_title(\"Original + Mask\", fontsize=10)\n",
    "    axes[2, 0].axis('off')\n",
    "    \n",
    "    # Show results\n",
    "    for i, (prompt, image) in enumerate(results):\n",
    "        col = i + 1\n",
    "        axes[0, col].imshow(base_image)\n",
    "        axes[0, col].set_title(\"Original\", fontsize=10)\n",
    "        axes[0, col].axis('off')\n",
    "        \n",
    "        axes[1, col].imshow(mask, cmap='gray')\n",
    "        axes[1, col].set_title(\"Mask\", fontsize=10)\n",
    "        axes[1, col].axis('off')\n",
    "        \n",
    "        axes[2, col].imshow(image)\n",
    "        axes[2, col].set_title(prompt[:25] + \"...\", fontsize=10)\n",
    "        axes[2, col].axis('off')\n",
    "    \n",
    "    plt.tight_layout()\n",
    "    plt.show()\n",
    "\n",
    "\n",
    "def create_sample_image():\n",
    "    \"\"\"Create a simple landscape image.\"\"\"\n",
    "    width, height = 512, 512\n",
    "    image = Image.new('RGB', (width, height))\n",
    "    pixels = []\n",
    "    \n",
    "    for y in range(height):\n",
    "        for x in range(width):\n",
    "            if y < height // 3:  # Sky\n",
    "                r, g, b = 135, 206, 235\n",
    "            elif y < height * 2 // 3:  # Mountains\n",
    "                r = int(139 + (x / width) * 50)\n",
    "                g = int(69 + (x / width) * 30)\n",
    "                b = int(19 + (x / width) * 20)\n",
    "            else:  # Ground\n",
    "                r = int(34 + (x / width) * 50)\n",
    "                g = int(139 + (x / width) * 30)\n",
    "                b = int(34 + (x / width) * 20)\n",
    "            pixels.append((r, g, b))\n",
    "    \n",
    "    image.putdata(pixels)\n",
    "    return image\n"
   ]
  },
  {
   "cell_type": "code",
   "execution_count": null,
   "metadata": {},
   "outputs": [],
   "source": [
    "# Execute\n",
    "device, dtype = setup_device()\n",
    "pipe = load_inpainting_pipeline(device, dtype)\n",
    "\n",
    "# Create sample image and mask\n",
    "base_image = create_sample_image()\n",
    "mask = create_circular_mask(base_image, (256, 256), 100)\n",
    "\n",
    "prompts = [\n",
    "    \"A beautiful butterfly\",\n",
    "    \"A glowing crystal\",\n",
    "    \"A small robot\"\n",
    "]\n",
    "\n",
    "results = []\n",
    "for i, prompt in enumerate(prompts):\n",
    "    inpainted = inpaint_image(pipe, base_image, mask, prompt, seed=200+i)\n",
    "    results.append((prompt, inpainted))\n",
    "\n",
    "visualize_results(base_image, mask, results) "
   ]
  },
  {
   "cell_type": "markdown",
   "metadata": {},
   "source": [
    "---"
   ]
  }
 ],
 "metadata": {
  "kernelspec": {
   "display_name": "gs",
   "language": "python",
   "name": "python3"
  },
  "language_info": {
   "codemirror_mode": {
    "name": "ipython",
    "version": 3
   },
   "file_extension": ".py",
   "mimetype": "text/x-python",
   "name": "python",
   "nbconvert_exporter": "python",
   "pygments_lexer": "ipython3",
   "version": "3.10.18"
  }
 },
 "nbformat": 4,
 "nbformat_minor": 2
}

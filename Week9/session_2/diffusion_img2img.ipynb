{
 "cells": [
  {
   "cell_type": "markdown",
   "metadata": {},
   "source": [
    "Image-to-Image Transformation with Stable Diffusion\n",
    "==================================================\n",
    "\n",
    "[View on Google Colab](https://colab.research.google.com/drive/1q00kVpnYnKZmYNICE05_1NHC8bSUFQH0?usp=sharing)"
   ]
  },
  {
   "cell_type": "markdown",
   "metadata": {},
   "source": [
    "### Import the necessary libraries"
   ]
  },
  {
   "cell_type": "code",
   "execution_count": 1,
   "metadata": {},
   "outputs": [],
   "source": [
    "# !pip install torch matplotlib pillow diffusers\n",
    "\n",
    "import torch\n",
    "import matplotlib.pyplot as plt\n",
    "from PIL import Image\n",
    "from diffusers import StableDiffusionImg2ImgPipeline\n",
    "import requests\n",
    "from io import BytesIO"
   ]
  },
  {
   "cell_type": "markdown",
   "metadata": {},
   "source": [
    "---"
   ]
  },
  {
   "cell_type": "markdown",
   "metadata": {},
   "source": [
    "### Setup Device"
   ]
  },
  {
   "cell_type": "code",
   "execution_count": 2,
   "metadata": {},
   "outputs": [],
   "source": [
    "def setup_device():\n",
    "    \"\"\"Setup optimal device for diffusion models.\n",
    "    \n",
    "    Returns:\n",
    "        tuple: Device string and appropriate dtype for the device.\n",
    "    \"\"\"\n",
    "    if torch.cuda.is_available():\n",
    "        return \"cuda\", torch.float16\n",
    "    elif torch.backends.mps.is_available():\n",
    "        return \"mps\", torch.float32\n",
    "    else:\n",
    "        return \"cpu\", torch.float32"
   ]
  },
  {
   "cell_type": "markdown",
   "metadata": {},
   "source": [
    "---\n"
   ]
  },
  {
   "cell_type": "markdown",
   "metadata": {},
   "source": [
    "### Load Image to Image Pipeline from HuggingFace"
   ]
  },
  {
   "cell_type": "code",
   "execution_count": 3,
   "metadata": {},
   "outputs": [],
   "source": [
    "def load_img2img_pipeline(device=\"cuda\", dtype=torch.float16):\n",
    "    \"\"\"Load Stable Diffusion pipeline for image-to-image generation.\n",
    "    \n",
    "    Args:\n",
    "        device (str): Device to load the pipeline on.\n",
    "        dtype: Data type for the pipeline.\n",
    "        \n",
    "    Returns:\n",
    "        StableDiffusionImg2ImgPipeline: Loaded pipeline.\n",
    "    \"\"\"\n",
    "    pipe = StableDiffusionImg2ImgPipeline.from_pretrained(\n",
    "        \"runwayml/stable-diffusion-v1-5\",\n",
    "        torch_dtype=dtype,\n",
    "        safety_checker=None,\n",
    "        requires_safety_checker=False\n",
    "    )\n",
    "    pipe = pipe.to(device)\n",
    "    if hasattr(pipe, 'enable_attention_slicing'):\n",
    "        pipe.enable_attention_slicing()\n",
    "    return pipe"
   ]
  },
  {
   "cell_type": "code",
   "execution_count": 4,
   "metadata": {},
   "outputs": [],
   "source": [
    "def transform_image(pipe, init_image, prompt, strength=0.7, seed=42):\n",
    "    \"\"\"Transform an existing image based on a text prompt.\n",
    "    \n",
    "    Args:\n",
    "        pipe: The diffusion pipeline.\n",
    "        init_image (PIL.Image): Initial image to transform.\n",
    "        prompt (str): Text prompt for transformation.\n",
    "        strength (float): Transformation strength (0-1).\n",
    "        seed (int): Random seed for reproducibility.\n",
    "        \n",
    "    Returns:\n",
    "        PIL.Image: Transformed image.\n",
    "    \"\"\"\n",
    "    torch.manual_seed(seed)\n",
    "    if torch.cuda.is_available():\n",
    "        torch.cuda.manual_seed(seed)\n",
    "    \n",
    "    init_image = init_image.resize((512, 512))\n",
    "    \n",
    "    with torch.no_grad():\n",
    "        result = pipe(\n",
    "            prompt=prompt,\n",
    "            image=init_image,\n",
    "            negative_prompt=\"blurry, low quality\",\n",
    "            strength=strength,\n",
    "            num_inference_steps=20,\n",
    "            guidance_scale=7.5\n",
    "        )\n",
    "    return result.images[0]"
   ]
  },
  {
   "cell_type": "markdown",
   "metadata": {},
   "source": [
    "---"
   ]
  },
  {
   "cell_type": "markdown",
   "metadata": {},
   "source": [
    "### Run Inference"
   ]
  },
  {
   "cell_type": "code",
   "execution_count": 5,
   "metadata": {},
   "outputs": [],
   "source": [
    "def download_coco_image(url):\n",
    "    \"\"\"Download a real image from the COCO dataset.\n",
    "    \n",
    "    Args:\n",
    "        url (str): URL of the COCO image to download.\n",
    "        \n",
    "    Returns:\n",
    "        PIL.Image: Downloaded image.\n",
    "    \"\"\"\n",
    "    try:\n",
    "        response = requests.get(url)\n",
    "        response.raise_for_status()\n",
    "        image = Image.open(BytesIO(response.content))\n",
    "        return image.convert('RGB')\n",
    "    except Exception as e:\n",
    "        print(f\"Error downloading image: {e}\")"
   ]
  },
  {
   "cell_type": "code",
   "execution_count": 6,
   "metadata": {},
   "outputs": [],
   "source": [
    "def visualize_results(init_image, results):\n",
    "    \"\"\"Visualize transformation results.\n",
    "    \n",
    "    Args:\n",
    "        init_image (PIL.Image): Original image.\n",
    "        results (list): List of (prompt, transformed_image) tuples.\n",
    "    \"\"\"\n",
    "    fig, axes = plt.subplots(2, len(results), figsize=(15, 8))\n",
    "    \n",
    "    # Show original image in top row\n",
    "    for i in range(len(results)):\n",
    "        axes[0, i].imshow(init_image)\n",
    "        axes[0, i].set_title(\"Original COCO Image\", fontsize=10)\n",
    "        axes[0, i].axis('off')\n",
    "    \n",
    "    # Show transformed images in bottom row\n",
    "    for i, (prompt, image) in enumerate(results):\n",
    "        axes[1, i].imshow(image)\n",
    "        axes[1, i].set_title(prompt[:30] + \"...\", fontsize=10)\n",
    "        axes[1, i].axis('off')\n",
    "    \n",
    "    plt.tight_layout()\n",
    "    plt.show()"
   ]
  },
  {
   "cell_type": "code",
   "execution_count": null,
   "metadata": {},
   "outputs": [],
   "source": [
    "# Execute\n",
    "device, dtype = setup_device()\n",
    "pipe = load_img2img_pipeline(device, dtype)\n",
    "\n",
    "coco_image_url = \"http://images.cocodataset.org/val2017/000000039769.jpg\"\n",
    "print(f\"Downloading COCO image from: {coco_image_url}\")\n",
    "init_image = download_coco_image(coco_image_url)\n",
    "\n",
    "prompts = [\n",
    "    \"Transform into a watercolor painting\",\n",
    "    \"Make it look like a vintage photograph\",\n",
    "    \"Convert to anime art style\"\n",
    "]\n",
    "\n",
    "results = []\n",
    "for i, prompt in enumerate(prompts):\n",
    "    print(f\"Processing prompt {i+1}/{len(prompts)}: {prompt}\")\n",
    "    transformed = transform_image(pipe, init_image, prompt, seed=100+i)\n",
    "    results.append((prompt, transformed))\n",
    "\n",
    "visualize_results(init_image, results) "
   ]
  },
  {
   "cell_type": "markdown",
   "metadata": {},
   "source": [
    "---"
   ]
  }
 ],
 "metadata": {
  "kernelspec": {
   "display_name": "gs",
   "language": "python",
   "name": "python3"
  },
  "language_info": {
   "codemirror_mode": {
    "name": "ipython",
    "version": 3
   },
   "file_extension": ".py",
   "mimetype": "text/x-python",
   "name": "python",
   "nbconvert_exporter": "python",
   "pygments_lexer": "ipython3",
   "version": "3.10.18"
  }
 },
 "nbformat": 4,
 "nbformat_minor": 2
}

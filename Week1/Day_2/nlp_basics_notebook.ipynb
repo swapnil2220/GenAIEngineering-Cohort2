{
 "cells": [
  {
   "cell_type": "markdown",
   "metadata": {},
   "source": [
    "# Introduction to Natural Language Processing (NLP)\n",
    "\n",
    "Natural Language Processing (NLP) is a field of artificial intelligence that focuses on the interaction between computers and human language. It involves developing algorithms and models that can understand, interpret, and generate human language.\n",
    "\n",
    "## What you'll learn in this notebook:\n",
    "1. Text Preprocessing\n",
    "2. Tokenization\n",
    "3. Stop Words Removal\n",
    "4. Stemming and Lemmatization\n",
    "5. Bag of Words (BoW)\n",
    "6. TF-IDF (Term Frequency-Inverse Document Frequency)\n",
    "7. Basic Sentiment Analysis\n",
    "8. Introduction to Word Embeddings"
   ]
  },
  {
   "cell_type": "markdown",
   "metadata": {},
   "source": [
    "## 1. Setup and Imports\n",
    "\n",
    "First, let's install and import the necessary libraries:"
   ]
  },
  {
   "cell_type": "code",
   "execution_count": 26,
   "metadata": {},
   "outputs": [
    {
     "name": "stderr",
     "output_type": "stream",
     "text": [
      "[nltk_data] Downloading package punkt to\n",
      "[nltk_data]     /Users/swapnilshrivastava/nltk_data...\n",
      "[nltk_data]   Package punkt is already up-to-date!\n",
      "[nltk_data] Downloading package stopwords to\n",
      "[nltk_data]     /Users/swapnilshrivastava/nltk_data...\n",
      "[nltk_data]   Package stopwords is already up-to-date!\n",
      "[nltk_data] Downloading package wordnet to\n",
      "[nltk_data]     /Users/swapnilshrivastava/nltk_data...\n",
      "[nltk_data]   Package wordnet is already up-to-date!\n",
      "[nltk_data] Downloading package averaged_perceptron_tagger to\n",
      "[nltk_data]     /Users/swapnilshrivastava/nltk_data...\n",
      "[nltk_data]   Package averaged_perceptron_tagger is already up-to-\n",
      "[nltk_data]       date!\n",
      "[nltk_data] Downloading package vader_lexicon to\n",
      "[nltk_data]     /Users/swapnilshrivastava/nltk_data...\n",
      "[nltk_data]   Package vader_lexicon is already up-to-date!\n"
     ]
    },
    {
     "data": {
      "text/plain": [
       "True"
      ]
     },
     "execution_count": 26,
     "metadata": {},
     "output_type": "execute_result"
    }
   ],
   "source": [
    "# Import necessary libraries\n",
    "import nltk\n",
    "import pandas as pd\n",
    "import numpy as np\n",
    "import re\n",
    "import matplotlib.pyplot as plt\n",
    "import seaborn as sns\n",
    "from collections import Counter\n",
    "\n",
    "# Download NLTK data (run this once)\n",
    "nltk.download('punkt')\n",
    "nltk.download('stopwords')\n",
    "nltk.download('wordnet')\n",
    "nltk.download('averaged_perceptron_tagger')\n",
    "nltk.download('vader_lexicon')"
   ]
  },
  {
   "cell_type": "code",
   "execution_count": 57,
   "metadata": {},
   "outputs": [
    {
     "name": "stdout",
     "output_type": "stream",
     "text": [
      "Requirement already satisfied: seaborn in /Users/swapnilshrivastava/Documents/GenAIEngineering-Cohort2/BaseCamp3/basecamp3/lib/python3.12/site-packages (0.13.2)\n",
      "Requirement already satisfied: numpy!=1.24.0,>=1.20 in /Users/swapnilshrivastava/Documents/GenAIEngineering-Cohort2/BaseCamp3/basecamp3/lib/python3.12/site-packages (from seaborn) (2.2.4)\n",
      "Requirement already satisfied: pandas>=1.2 in /Users/swapnilshrivastava/Documents/GenAIEngineering-Cohort2/BaseCamp3/basecamp3/lib/python3.12/site-packages (from seaborn) (2.2.3)\n",
      "Requirement already satisfied: matplotlib!=3.6.1,>=3.4 in /Users/swapnilshrivastava/Documents/GenAIEngineering-Cohort2/BaseCamp3/basecamp3/lib/python3.12/site-packages (from seaborn) (3.10.3)\n",
      "Requirement already satisfied: contourpy>=1.0.1 in /Users/swapnilshrivastava/Documents/GenAIEngineering-Cohort2/BaseCamp3/basecamp3/lib/python3.12/site-packages (from matplotlib!=3.6.1,>=3.4->seaborn) (1.3.2)\n",
      "Requirement already satisfied: cycler>=0.10 in /Users/swapnilshrivastava/Documents/GenAIEngineering-Cohort2/BaseCamp3/basecamp3/lib/python3.12/site-packages (from matplotlib!=3.6.1,>=3.4->seaborn) (0.12.1)\n",
      "Requirement already satisfied: fonttools>=4.22.0 in /Users/swapnilshrivastava/Documents/GenAIEngineering-Cohort2/BaseCamp3/basecamp3/lib/python3.12/site-packages (from matplotlib!=3.6.1,>=3.4->seaborn) (4.58.4)\n",
      "Requirement already satisfied: kiwisolver>=1.3.1 in /Users/swapnilshrivastava/Documents/GenAIEngineering-Cohort2/BaseCamp3/basecamp3/lib/python3.12/site-packages (from matplotlib!=3.6.1,>=3.4->seaborn) (1.4.8)\n",
      "Requirement already satisfied: packaging>=20.0 in /Users/swapnilshrivastava/Documents/GenAIEngineering-Cohort2/BaseCamp3/basecamp3/lib/python3.12/site-packages (from matplotlib!=3.6.1,>=3.4->seaborn) (24.2)\n",
      "Requirement already satisfied: pillow>=8 in /Users/swapnilshrivastava/Documents/GenAIEngineering-Cohort2/BaseCamp3/basecamp3/lib/python3.12/site-packages (from matplotlib!=3.6.1,>=3.4->seaborn) (11.2.1)\n",
      "Requirement already satisfied: pyparsing>=2.3.1 in /Users/swapnilshrivastava/Documents/GenAIEngineering-Cohort2/BaseCamp3/basecamp3/lib/python3.12/site-packages (from matplotlib!=3.6.1,>=3.4->seaborn) (3.2.3)\n",
      "Requirement already satisfied: python-dateutil>=2.7 in /Users/swapnilshrivastava/Documents/GenAIEngineering-Cohort2/BaseCamp3/basecamp3/lib/python3.12/site-packages (from matplotlib!=3.6.1,>=3.4->seaborn) (2.9.0.post0)\n",
      "Requirement already satisfied: pytz>=2020.1 in /Users/swapnilshrivastava/Documents/GenAIEngineering-Cohort2/BaseCamp3/basecamp3/lib/python3.12/site-packages (from pandas>=1.2->seaborn) (2025.2)\n",
      "Requirement already satisfied: tzdata>=2022.7 in /Users/swapnilshrivastava/Documents/GenAIEngineering-Cohort2/BaseCamp3/basecamp3/lib/python3.12/site-packages (from pandas>=1.2->seaborn) (2025.2)\n",
      "Requirement already satisfied: six>=1.5 in /Users/swapnilshrivastava/Documents/GenAIEngineering-Cohort2/BaseCamp3/basecamp3/lib/python3.12/site-packages (from python-dateutil>=2.7->matplotlib!=3.6.1,>=3.4->seaborn) (1.17.0)\n",
      "\n",
      "\u001b[1m[\u001b[0m\u001b[34;49mnotice\u001b[0m\u001b[1;39;49m]\u001b[0m\u001b[39;49m A new release of pip is available: \u001b[0m\u001b[31;49m24.0\u001b[0m\u001b[39;49m -> \u001b[0m\u001b[32;49m25.1.1\u001b[0m\n",
      "\u001b[1m[\u001b[0m\u001b[34;49mnotice\u001b[0m\u001b[1;39;49m]\u001b[0m\u001b[39;49m To update, run: \u001b[0m\u001b[32;49mpip install --upgrade pip\u001b[0m\n"
     ]
    }
   ],
   "source": [
    "!pip install seaborn\n",
    "\n",
    "\n"
   ]
  },
  {
   "cell_type": "markdown",
   "metadata": {},
   "source": [
    "## 2. Text Preprocessing\n",
    "\n",
    "Text preprocessing is a crucial step in NLP. It involves cleaning and preparing text data for analysis."
   ]
  },
  {
   "cell_type": "code",
   "execution_count": 32,
   "metadata": {},
   "outputs": [
    {
     "name": "stdout",
     "output_type": "stream",
     "text": [
      "Original text:\n",
      "To  hsh@gmail.com ##@#@#sss's's'sbecome a food influencer, focus on building a strong online presence by creating engaging, high-quality content across relevant platforms like Instagram, YouTube, and TikTok. Develop your unique style, build a loyal audience, and actively engage with them through comments, Q&A sessions, and other interactive features. Collaborate with other influencers and brands to expand your reach and explore opportunities like recipe development, food photography, and even selling courses or classes. \n",
      "Here's a more detailed breakdown:\n",
      "1. Choose Your Platform(s) and Niche:\n",
      "Instagram: Great for visually appealing food photos and videos, stories, and reels. \n",
      "YouTube: Ideal for in-depth tutorials, reviews, and longer-form content. \n",
      "TikTok: Perfect for short, engaging, and trendy food videos. \n",
      "Pinterest: Useful for driving traffic to your blog or website, especially with recipes. \n",
      "Niche: Consider specializing in a particular type of cuisine, dietary restriction (vegan, gluten-free, etc.), or food-related activity (baking, cooking challenges, etc.). \n",
      "2\n",
      "Zola’s Feasts By Zola Nene\n",
      "\n",
      "25:00\n",
      "How to Become a Food Influencer - Escoffier\n",
      "1 Feb 2021 — Interact With the Industry Part of building your audience will include getting your name out there in your niche food co...\n",
      "\n",
      "Auguste Escoffier School of Culinary Arts\n",
      "\n",
      "Show all\n",
      "I\n"
     ]
    }
   ],
   "source": [
    "# Sample text for demonstration\n",
    "sample_text = \"\"\"To  hsh@gmail.com ##@#@#sss's's'sbecome a food influencer, focus on building a strong online presence by creating engaging, high-quality content across relevant platforms like Instagram, YouTube, and TikTok. Develop your unique style, build a loyal audience, and actively engage with them through comments, Q&A sessions, and other interactive features. Collaborate with other influencers and brands to expand your reach and explore opportunities like recipe development, food photography, and even selling courses or classes. \n",
    "Here's a more detailed breakdown:\n",
    "1. Choose Your Platform(s) and Niche:\n",
    "Instagram: Great for visually appealing food photos and videos, stories, and reels. \n",
    "YouTube: Ideal for in-depth tutorials, reviews, and longer-form content. \n",
    "TikTok: Perfect for short, engaging, and trendy food videos. \n",
    "Pinterest: Useful for driving traffic to your blog or website, especially with recipes. \n",
    "Niche: Consider specializing in a particular type of cuisine, dietary restriction (vegan, gluten-free, etc.), or food-related activity (baking, cooking challenges, etc.). \n",
    "2\n",
    "Zola’s Feasts By Zola Nene\n",
    "\n",
    "25:00\n",
    "How to Become a Food Influencer - Escoffier\n",
    "1 Feb 2021 — Interact With the Industry Part of building your audience will include getting your name out there in your niche food co...\n",
    "\n",
    "Auguste Escoffier School of Culinary Arts\n",
    "\n",
    "Show all\n",
    "I\"\"\"\n",
    "\n",
    "print(\"Original text:\")\n",
    "print(sample_text)"
   ]
  },
  {
   "cell_type": "code",
   "execution_count": 33,
   "metadata": {},
   "outputs": [
    {
     "name": "stdout",
     "output_type": "stream",
     "text": [
      "\n",
      "Cleaned text:\n",
      "to a food influencer focus on building a strong online presence by creating engaging highquality content across relevant platforms like instagram youtube and tiktok develop your unique style build a loyal audience and actively engage with them through comments qa sessions and other interactive features collaborate with other influencers and brands to expand your reach and explore opportunities like recipe development food photography and even selling courses or classes heres a more detailed breakdown choose your platforms and niche instagram great for visually appealing food photos and videos stories and reels youtube ideal for indepth tutorials reviews and longerform content tiktok perfect for short engaging and trendy food videos pinterest useful for driving traffic to your blog or website especially with recipes niche consider specializing in a particular type of cuisine dietary restriction vegan glutenfree etc or foodrelated activity baking cooking challenges etc zolas feasts by zola nene how to become a food influencer escoffier feb interact with the industry part of building your audience will include getting your name out there in your niche food co auguste escoffier school of culinary arts show all i\n"
     ]
    }
   ],
   "source": [
    "def preprocess_text(text):\n",
    "    \"\"\"Basic text preprocessing function\"\"\"\n",
    "    # Convert to lowercase\n",
    "    text = text.lower()\n",
    "    \n",
    "    # Remove URLs\n",
    "    text = re.sub(r'https?://\\S+|www\\.\\S+', '', text)\n",
    "    \n",
    "    # Remove email addresses\n",
    "    text = re.sub(r'\\S+@\\S+', '', text)\n",
    "    \n",
    "    # Remove hashtags\n",
    "    text = re.sub(r'#\\w+', '', text)\n",
    "    \n",
    "    # Remove special characters and digits\n",
    "    text = re.sub(r'[^a-zA-Z\\s]', '', text)\n",
    "    \n",
    "    # Remove extra whitespace\n",
    "    text = ' '.join(text.split())\n",
    "    \n",
    "    return text\n",
    "\n",
    "cleaned_text = preprocess_text(sample_text)\n",
    "print(\"\\nCleaned text:\")\n",
    "print(cleaned_text)"
   ]
  },
  {
   "cell_type": "markdown",
   "metadata": {},
   "source": [
    "## 3. Tokenization\n",
    "\n",
    "Tokenization is the process of breaking down text into smaller units called tokens (words, sentences, etc.)."
   ]
  },
  {
   "cell_type": "code",
   "execution_count": 58,
   "metadata": {},
   "outputs": [
    {
     "name": "stdout",
     "output_type": "stream",
     "text": [
      "Word tokens:\n",
      "['to', 'a', 'food', 'influencer', 'focus', 'on', 'building', 'a', 'strong', 'online', 'presence', 'by', 'creating', 'engaging', 'highquality', 'content', 'across', 'relevant', 'platforms', 'like', 'instagram', 'youtube', 'and', 'tiktok', 'develop', 'your', 'unique', 'style', 'build', 'a', 'loyal', 'audience', 'and', 'actively', 'engage', 'with', 'them', 'through', 'comments', 'qa', 'sessions', 'and', 'other', 'interactive', 'features', 'collaborate', 'with', 'other', 'influencers', 'and', 'brands', 'to', 'expand', 'your', 'reach', 'and', 'explore', 'opportunities', 'like', 'recipe', 'development', 'food', 'photography', 'and', 'even', 'selling', 'courses', 'or', 'classes', 'heres', 'a', 'more', 'detailed', 'breakdown', 'choose', 'your', 'platforms', 'and', 'niche', 'instagram', 'great', 'for', 'visually', 'appealing', 'food', 'photos', 'and', 'videos', 'stories', 'and', 'reels', 'youtube', 'ideal', 'for', 'indepth', 'tutorials', 'reviews', 'and', 'longerform', 'content', 'tiktok', 'perfect', 'for', 'short', 'engaging', 'and', 'trendy', 'food', 'videos', 'pinterest', 'useful', 'for', 'driving', 'traffic', 'to', 'your', 'blog', 'or', 'website', 'especially', 'with', 'recipes', 'niche', 'consider', 'specializing', 'in', 'a', 'particular', 'type', 'of', 'cuisine', 'dietary', 'restriction', 'vegan', 'glutenfree', 'etc', 'or', 'foodrelated', 'activity', 'baking', 'cooking', 'challenges', 'etc', 'zolas', 'feasts', 'by', 'zola', 'nene', 'how', 'to', 'become', 'a', 'food', 'influencer', 'escoffier', 'feb', 'interact', 'with', 'the', 'industry', 'part', 'of', 'building', 'your', 'audience', 'will', 'include', 'getting', 'your', 'name', 'out', 'there', 'in', 'your', 'niche', 'food', 'co', 'auguste', 'escoffier', 'school', 'of', 'culinary', 'arts', 'show', 'all', 'i']\n",
      "\n",
      "Number of words: 186\n",
      "\n",
      "Sentence tokens:\n",
      "1. To  hsh@gmail.com ##@#@#sss's's'sbecome a food influencer, focus on building a strong online presence by creating engaging, high-quality content across relevant platforms like Instagram, YouTube, and TikTok.\n",
      "2. Develop your unique style, build a loyal audience, and actively engage with them through comments, Q&A sessions, and other interactive features.\n",
      "3. Collaborate with other influencers and brands to expand your reach and explore opportunities like recipe development, food photography, and even selling courses or classes.\n",
      "4. Here's a more detailed breakdown:\n",
      "1.\n",
      "5. Choose Your Platform(s) and Niche:\n",
      "Instagram: Great for visually appealing food photos and videos, stories, and reels.\n",
      "6. YouTube: Ideal for in-depth tutorials, reviews, and longer-form content.\n",
      "7. TikTok: Perfect for short, engaging, and trendy food videos.\n",
      "8. Pinterest: Useful for driving traffic to your blog or website, especially with recipes.\n",
      "9. Niche: Consider specializing in a particular type of cuisine, dietary restriction (vegan, gluten-free, etc.\n",
      "10. ), or food-related activity (baking, cooking challenges, etc.).\n",
      "11. 2\n",
      "Zola’s Feasts By Zola Nene\n",
      "\n",
      "25:00\n",
      "How to Become a Food Influencer - Escoffier\n",
      "1 Feb 2021 — Interact With the Industry Part of building your audience will include getting your name out there in your niche food co...\n",
      "\n",
      "Auguste Escoffier School of Culinary Arts\n",
      "\n",
      "Show all\n",
      "I\n"
     ]
    }
   ],
   "source": [
    "from nltk.tokenize import word_tokenize, sent_tokenize\n",
    "\n",
    "# Word tokenization\n",
    "words = word_tokenize(cleaned_text)\n",
    "print(\"Word tokens:\")\n",
    "print(words)\n",
    "print(f\"\\nNumber of words: {len(words)}\")\n",
    "\n",
    "# Sentence tokenization\n",
    "sentences = sent_tokenize(sample_text)\n",
    "print(\"\\nSentence tokens:\")\n",
    "for i, sent in enumerate(sentences):\n",
    "    print(f\"{i+1}. {sent}\")"
   ]
  },
  {
   "cell_type": "code",
   "execution_count": 20,
   "metadata": {},
   "outputs": [
    {
     "name": "stderr",
     "output_type": "stream",
     "text": [
      "[nltk_data] Downloading package punkt_tab to\n",
      "[nltk_data]     /Users/swapnilshrivastava/nltk_data...\n",
      "[nltk_data]   Unzipping tokenizers/punkt_tab.zip.\n"
     ]
    },
    {
     "data": {
      "text/plain": [
       "True"
      ]
     },
     "execution_count": 20,
     "metadata": {},
     "output_type": "execute_result"
    }
   ],
   "source": [
    "nltk.download(\"punkt_tab\")"
   ]
  },
  {
   "cell_type": "markdown",
   "metadata": {},
   "source": [
    "## 4. Stop Words Removal\n",
    "\n",
    "Stop words are common words that don't carry much meaning (e.g., 'the', 'is', 'at', 'which')."
   ]
  },
  {
   "cell_type": "code",
   "execution_count": 59,
   "metadata": {},
   "outputs": [
    {
     "name": "stdout",
     "output_type": "stream",
     "text": [
      "Number of stop words: 198\n",
      "Sample stop words: ['its', 'just', 'll', 'on', 'only', 'below', \"don't\", 'during', 'this', 'should']\n",
      "\n",
      "Original words (186): ['to', 'a', 'food', 'influencer', 'focus', 'on', 'building', 'a', 'strong', 'online', 'presence', 'by', 'creating', 'engaging', 'highquality', 'content', 'across', 'relevant', 'platforms', 'like', 'instagram', 'youtube', 'and', 'tiktok', 'develop', 'your', 'unique', 'style', 'build', 'a', 'loyal', 'audience', 'and', 'actively', 'engage', 'with', 'them', 'through', 'comments', 'qa', 'sessions', 'and', 'other', 'interactive', 'features', 'collaborate', 'with', 'other', 'influencers', 'and', 'brands', 'to', 'expand', 'your', 'reach', 'and', 'explore', 'opportunities', 'like', 'recipe', 'development', 'food', 'photography', 'and', 'even', 'selling', 'courses', 'or', 'classes', 'heres', 'a', 'more', 'detailed', 'breakdown', 'choose', 'your', 'platforms', 'and', 'niche', 'instagram', 'great', 'for', 'visually', 'appealing', 'food', 'photos', 'and', 'videos', 'stories', 'and', 'reels', 'youtube', 'ideal', 'for', 'indepth', 'tutorials', 'reviews', 'and', 'longerform', 'content', 'tiktok', 'perfect', 'for', 'short', 'engaging', 'and', 'trendy', 'food', 'videos', 'pinterest', 'useful', 'for', 'driving', 'traffic', 'to', 'your', 'blog', 'or', 'website', 'especially', 'with', 'recipes', 'niche', 'consider', 'specializing', 'in', 'a', 'particular', 'type', 'of', 'cuisine', 'dietary', 'restriction', 'vegan', 'glutenfree', 'etc', 'or', 'foodrelated', 'activity', 'baking', 'cooking', 'challenges', 'etc', 'zolas', 'feasts', 'by', 'zola', 'nene', 'how', 'to', 'become', 'a', 'food', 'influencer', 'escoffier', 'feb', 'interact', 'with', 'the', 'industry', 'part', 'of', 'building', 'your', 'audience', 'will', 'include', 'getting', 'your', 'name', 'out', 'there', 'in', 'your', 'niche', 'food', 'co', 'auguste', 'escoffier', 'school', 'of', 'culinary', 'arts', 'show', 'all', 'i']\n",
      "\n",
      "Filtered words (127): ['food', 'influencer', 'focus', 'building', 'strong', 'online', 'presence', 'creating', 'engaging', 'highquality', 'content', 'across', 'relevant', 'platforms', 'like', 'instagram', 'youtube', 'tiktok', 'develop', 'unique', 'style', 'build', 'loyal', 'audience', 'actively', 'engage', 'comments', 'qa', 'sessions', 'interactive', 'features', 'collaborate', 'influencers', 'brands', 'expand', 'reach', 'explore', 'opportunities', 'like', 'recipe', 'development', 'food', 'photography', 'even', 'selling', 'courses', 'classes', 'heres', 'detailed', 'breakdown', 'choose', 'platforms', 'niche', 'instagram', 'great', 'visually', 'appealing', 'food', 'photos', 'videos', 'stories', 'reels', 'youtube', 'ideal', 'indepth', 'tutorials', 'reviews', 'longerform', 'content', 'tiktok', 'perfect', 'short', 'engaging', 'trendy', 'food', 'videos', 'pinterest', 'useful', 'driving', 'traffic', 'blog', 'website', 'especially', 'recipes', 'niche', 'consider', 'specializing', 'particular', 'type', 'cuisine', 'dietary', 'restriction', 'vegan', 'glutenfree', 'etc', 'foodrelated', 'activity', 'baking', 'cooking', 'challenges', 'etc', 'zolas', 'feasts', 'zola', 'nene', 'become', 'food', 'influencer', 'escoffier', 'feb', 'interact', 'industry', 'part', 'building', 'audience', 'include', 'getting', 'name', 'niche', 'food', 'co', 'auguste', 'escoffier', 'school', 'culinary', 'arts', 'show']\n"
     ]
    }
   ],
   "source": [
    "from nltk.corpus import stopwords\n",
    "\n",
    "# Get English stop words\n",
    "stop_words = set(stopwords.words('english'))\n",
    "print(f\"Number of stop words: {len(stop_words)}\")\n",
    "print(f\"Sample stop words: {list(stop_words)[:10]}\")\n",
    "\n",
    "# Remove stop words\n",
    "filtered_words = [word for word in words if word not in stop_words]\n",
    "print(f\"\\nOriginal words ({len(words)}): {words}\")\n",
    "print(f\"\\nFiltered words ({len(filtered_words)}): {filtered_words}\")"
   ]
  },
  {
   "cell_type": "markdown",
   "metadata": {},
   "source": [
    "## 5. Stemming and Lemmatization\n",
    "\n",
    "Both techniques reduce words to their base form, but lemmatization is more sophisticated."
   ]
  },
  {
   "cell_type": "code",
   "execution_count": 60,
   "metadata": {},
   "outputs": [
    {
     "name": "stdout",
     "output_type": "stream",
     "text": [
      "Word\t\tStem\t\tLemma\n",
      "----------------------------------------\n",
      "running\t\trun\t\trunning\n",
      "runs\t\trun\t\trun\n",
      "ran\t\tran\t\tran\n",
      "easily\t\teasili\t\teasily\n",
      "fairly\t\tfairli\t\tfairly\n",
      "better\t\tbetter\t\tbetter\n",
      "worse\t\twors\t\tworse\n"
     ]
    }
   ],
   "source": [
    "from nltk.stem import PorterStemmer, WordNetLemmatizer\n",
    "\n",
    "# Initialize stemmer and lemmatizer\n",
    "stemmer = PorterStemmer()\n",
    "lemmatizer = WordNetLemmatizer()\n",
    "\n",
    "# Example words\n",
    "example_words = ['running', 'runs', 'ran', 'easily', 'fairly', 'better', 'worse']\n",
    "\n",
    "print(\"Word\\t\\tStem\\t\\tLemma\")\n",
    "print(\"-\" * 40)\n",
    "for word in example_words:\n",
    "    stem = stemmer.stem(word)\n",
    "    lemma = lemmatizer.lemmatize(word)\n",
    "    print(f\"{word}\\t\\t{stem}\\t\\t{lemma}\")"
   ]
  },
  {
   "cell_type": "code",
   "execution_count": 61,
   "metadata": {},
   "outputs": [
    {
     "name": "stdout",
     "output_type": "stream",
     "text": [
      "Lemmatized words:\n",
      "['food', 'influencer', 'focus', 'building', 'strong', 'online', 'presence', 'creating', 'engaging', 'highquality', 'content', 'across', 'relevant', 'platform', 'like', 'instagram', 'youtube', 'tiktok', 'develop', 'unique', 'style', 'build', 'loyal', 'audience', 'actively', 'engage', 'comment', 'qa', 'session', 'interactive', 'feature', 'collaborate', 'influencers', 'brand', 'expand', 'reach', 'explore', 'opportunity', 'like', 'recipe', 'development', 'food', 'photography', 'even', 'selling', 'course', 'class', 'here', 'detailed', 'breakdown', 'choose', 'platform', 'niche', 'instagram', 'great', 'visually', 'appealing', 'food', 'photo', 'video', 'story', 'reel', 'youtube', 'ideal', 'indepth', 'tutorial', 'review', 'longerform', 'content', 'tiktok', 'perfect', 'short', 'engaging', 'trendy', 'food', 'video', 'pinterest', 'useful', 'driving', 'traffic', 'blog', 'website', 'especially', 'recipe', 'niche', 'consider', 'specializing', 'particular', 'type', 'cuisine', 'dietary', 'restriction', 'vegan', 'glutenfree', 'etc', 'foodrelated', 'activity', 'baking', 'cooking', 'challenge', 'etc', 'zola', 'feast', 'zola', 'nene', 'become', 'food', 'influencer', 'escoffier', 'feb', 'interact', 'industry', 'part', 'building', 'audience', 'include', 'getting', 'name', 'niche', 'food', 'co', 'auguste', 'escoffier', 'school', 'culinary', 'art', 'show']\n"
     ]
    }
   ],
   "source": [
    "# Apply lemmatization to our filtered words\n",
    "lemmatized_words = [lemmatizer.lemmatize(word) for word in filtered_words]\n",
    "print(\"Lemmatized words:\")\n",
    "print(lemmatized_words)"
   ]
  },
  {
   "cell_type": "markdown",
   "metadata": {},
   "source": [
    "## 6. Bag of Words (BoW)\n",
    "\n",
    "Bag of Words is a simple way to represent text data as numerical features."
   ]
  },
  {
   "cell_type": "code",
   "execution_count": 68,
   "metadata": {},
   "outputs": [
    {
     "ename": "ModuleNotFoundError",
     "evalue": "No module named 'sklearn'",
     "output_type": "error",
     "traceback": [
      "\u001b[31m---------------------------------------------------------------------------\u001b[39m",
      "\u001b[31mModuleNotFoundError\u001b[39m                       Traceback (most recent call last)",
      "\u001b[36mCell\u001b[39m\u001b[36m \u001b[39m\u001b[32mIn[68]\u001b[39m\u001b[32m, line 1\u001b[39m\n\u001b[32m----> \u001b[39m\u001b[32m1\u001b[39m \u001b[38;5;28;01mfrom\u001b[39;00m\u001b[38;5;250m \u001b[39m\u001b[34;01msklearn\u001b[39;00m\u001b[34;01m.\u001b[39;00m\u001b[34;01mfeature_extraction\u001b[39;00m\u001b[34;01m.\u001b[39;00m\u001b[34;01mtext\u001b[39;00m\u001b[38;5;250m \u001b[39m\u001b[38;5;28;01mimport\u001b[39;00m CountVectorizer\n\u001b[32m      3\u001b[39m \u001b[38;5;66;03m# Sample documents\u001b[39;00m\n\u001b[32m      4\u001b[39m documents = [\n\u001b[32m      5\u001b[39m     \u001b[33m\"\u001b[39m\u001b[33mNatural language processing is fascinating.\u001b[39m\u001b[33m\"\u001b[39m,\n\u001b[32m      6\u001b[39m     \u001b[33m\"\u001b[39m\u001b[33mMachine learning and NLP go hand in hand.\u001b[39m\u001b[33m\"\u001b[39m,\n\u001b[32m      7\u001b[39m     \u001b[33m\"\u001b[39m\u001b[33mText analysis is a key part of NLP.\u001b[39m\u001b[33m\"\u001b[39m,\n\u001b[32m      8\u001b[39m     \u001b[33m\"\u001b[39m\u001b[33mDeep learning revolutionized natural language processing.\u001b[39m\u001b[33m\"\u001b[39m\n\u001b[32m      9\u001b[39m ]\n",
      "\u001b[31mModuleNotFoundError\u001b[39m: No module named 'sklearn'"
     ]
    }
   ],
   "source": [
    "from sklearn.feature_extraction.text import CountVectorizer\n",
    "\n",
    "# Sample documents\n",
    "documents = [\n",
    "    \"Natural language processing is fascinating.\",\n",
    "    \"Machine learning and NLP go hand in hand.\",\n",
    "    \"Text analysis is a key part of NLP.\",\n",
    "    \"Deep learning revolutionized natural language processing.\"\n",
    "]\n",
    "\n",
    "# Create BoW representation\n",
    "vectorizer = CountVectorizer()\n",
    "bow_matrix = vectorizer.fit_transform(documents)\n",
    "\n",
    "# Get feature names\n",
    "feature_names = vectorizer.get_feature_names_out()\n",
    "\n",
    "# Convert to DataFrame for better visualization\n",
    "bow_df = pd.DataFrame(bow_matrix.toarray(), columns=feature_names)\n",
    "print(\"Bag of Words representation:\")\n",
    "print(bow_df)"
   ]
  },
  {
   "cell_type": "markdown",
   "metadata": {},
   "source": [
    "## 7. TF-IDF (Term Frequency-Inverse Document Frequency)\n",
    "\n",
    "TF-IDF gives more weight to words that are important to a document but not common across all documents."
   ]
  },
  {
   "cell_type": "code",
   "execution_count": 54,
   "metadata": {},
   "outputs": [
    {
     "ename": "ModuleNotFoundError",
     "evalue": "No module named 'sklearn'",
     "output_type": "error",
     "traceback": [
      "\u001b[31m---------------------------------------------------------------------------\u001b[39m",
      "\u001b[31mModuleNotFoundError\u001b[39m                       Traceback (most recent call last)",
      "\u001b[36mCell\u001b[39m\u001b[36m \u001b[39m\u001b[32mIn[54]\u001b[39m\u001b[32m, line 1\u001b[39m\n\u001b[32m----> \u001b[39m\u001b[32m1\u001b[39m \u001b[38;5;28;01mfrom\u001b[39;00m\u001b[38;5;250m \u001b[39m\u001b[34;01msklearn\u001b[39;00m\u001b[34;01m.\u001b[39;00m\u001b[34;01mfeature_extraction\u001b[39;00m\u001b[34;01m.\u001b[39;00m\u001b[34;01mtext\u001b[39;00m\u001b[38;5;250m \u001b[39m\u001b[38;5;28;01mimport\u001b[39;00m TfidfVectorizer\n\u001b[32m      3\u001b[39m \u001b[38;5;66;03m# Create TF-IDF representation\u001b[39;00m\n\u001b[32m      4\u001b[39m tfidf_vectorizer = TfidfVectorizer()\n",
      "\u001b[31mModuleNotFoundError\u001b[39m: No module named 'sklearn'"
     ]
    }
   ],
   "source": [
    "from sklearn.feature_extraction.text import TfidfVectorizer\n",
    "\n",
    "# Create TF-IDF representation\n",
    "tfidf_vectorizer = TfidfVectorizer()\n",
    "tfidf_matrix = tfidf_vectorizer.fit_transform(documents)\n",
    "\n",
    "# Convert to DataFrame\n",
    "tfidf_df = pd.DataFrame(\n",
    "    tfidf_matrix.toarray(), \n",
    "    columns=tfidf_vectorizer.get_feature_names_out()\n",
    ").round(3)\n",
    "\n",
    "print(\"TF-IDF representation:\")\n",
    "print(tfidf_df)"
   ]
  },
  {
   "cell_type": "code",
   "execution_count": 65,
   "metadata": {},
   "outputs": [
    {
     "ename": "NameError",
     "evalue": "name 'documents' is not defined",
     "output_type": "error",
     "traceback": [
      "\u001b[31m---------------------------------------------------------------------------\u001b[39m",
      "\u001b[31mNameError\u001b[39m                                 Traceback (most recent call last)",
      "\u001b[36mCell\u001b[39m\u001b[36m \u001b[39m\u001b[32mIn[65]\u001b[39m\u001b[32m, line 5\u001b[39m\n\u001b[32m      2\u001b[39m fig, axes = plt.subplots(\u001b[32m2\u001b[39m, \u001b[32m2\u001b[39m, figsize=(\u001b[32m12\u001b[39m, \u001b[32m8\u001b[39m))\n\u001b[32m      3\u001b[39m axes = axes.ravel()\n\u001b[32m----> \u001b[39m\u001b[32m5\u001b[39m \u001b[38;5;28;01mfor\u001b[39;00m idx, (doc, ax) \u001b[38;5;129;01min\u001b[39;00m \u001b[38;5;28menumerate\u001b[39m(\u001b[38;5;28mzip\u001b[39m(\u001b[43mdocuments\u001b[49m, axes)):\n\u001b[32m      6\u001b[39m     \u001b[38;5;66;03m# Get TF-IDF scores for this document\u001b[39;00m\n\u001b[32m      7\u001b[39m     scores = tfidf_df.iloc[idx]\n\u001b[32m      8\u001b[39m     top_words = scores.nlargest(\u001b[32m5\u001b[39m)\n",
      "\u001b[31mNameError\u001b[39m: name 'documents' is not defined"
     ]
    },
    {
     "data": {
      "image/png": "[encoded data removed]",
      "text/plain": [
       "<Figure size 1200x800 with 4 Axes>"
      ]
     },
     "metadata": {},
     "output_type": "display_data"
    }
   ],
   "source": [
    "# Visualize important words in each document\n",
    "fig, axes = plt.subplots(2, 2, figsize=(12, 8))\n",
    "axes = axes.ravel()\n",
    "\n",
    "for idx, (doc, ax) in enumerate(zip(documents, axes)):\n",
    "    # Get TF-IDF scores for this document\n",
    "    scores = tfidf_df.iloc[idx]\n",
    "    top_words = scores.nlargest(5)\n",
    "    \n",
    "    # Plot\n",
    "    top_words.plot(kind='barh', ax=ax)\n",
    "    ax.set_title(f'Document {idx+1}: Top TF-IDF words')\n",
    "    ax.set_xlabel('TF-IDF Score')\n",
    "\n",
    "plt.tight_layout()\n",
    "plt.show()"
   ]
  },
  {
   "cell_type": "markdown",
   "metadata": {},
   "source": [
    "## 8. Basic Sentiment Analysis\n",
    "\n",
    "Let's perform simple sentiment analysis using NLTK's VADER (Valence Aware Dictionary and sEntiment Reasoner)."
   ]
  },
  {
   "cell_type": "code",
   "execution_count": 66,
   "metadata": {},
   "outputs": [
    {
     "name": "stdout",
     "output_type": "stream",
     "text": [
      "Sentiment Analysis Results:\n",
      "                                            text    neg    neu    pos  \\\n",
      "0  I love this product! It's absolutely amazing.  0.000  0.318  0.682   \n",
      "1                   This is terrible. I hate it.  0.694  0.306  0.000   \n",
      "2                    It's okay, nothing special.  0.367  0.325  0.309   \n",
      "3     The service was good but the food was bad.  0.347  0.511  0.142   \n",
      "4            I'm not sure how I feel about this.  0.246  0.754  0.000   \n",
      "\n",
      "   compound  \n",
      "0    0.8620  \n",
      "1   -0.7783  \n",
      "2   -0.0920  \n",
      "3   -0.5859  \n",
      "4   -0.2411  \n"
     ]
    }
   ],
   "source": [
    "from nltk.sentiment import SentimentIntensityAnalyzer\n",
    "\n",
    "# Initialize sentiment analyzer\n",
    "sia = SentimentIntensityAnalyzer()\n",
    "\n",
    "# Sample texts for sentiment analysis\n",
    "texts = [\n",
    "    \"I love this product! It's absolutely amazing.\",\n",
    "    \"This is terrible. I hate it.\",\n",
    "    \"It's okay, nothing special.\",\n",
    "    \"The service was good but the food was bad.\",\n",
    "    \"I'm not sure how I feel about this.\"\n",
    "]\n",
    "\n",
    "# Analyze sentiment\n",
    "results = []\n",
    "for text in texts:\n",
    "    scores = sia.polarity_scores(text)\n",
    "    scores['text'] = text\n",
    "    results.append(scores)\n",
    "\n",
    "# Create DataFrame\n",
    "sentiment_df = pd.DataFrame(results)\n",
    "print(\"Sentiment Analysis Results:\")\n",
    "print(sentiment_df[['text', 'neg', 'neu', 'pos', 'compound']])"
   ]
  },
  {
   "cell_type": "code",
   "execution_count": 25,
   "metadata": {},
   "outputs": [
    {
     "data": {
      "image/png": "[encoded data removed]",
      "text/plain": [
       "<Figure size 1200x500 with 2 Axes>"
      ]
     },
     "metadata": {},
     "output_type": "display_data"
    }
   ],
   "source": [
    "# Visualize sentiment scores\n",
    "fig, (ax1, ax2) = plt.subplots(1, 2, figsize=(12, 5))\n",
    "\n",
    "# Bar plot of compound scores\n",
    "sentiment_df['compound'].plot(kind='bar', ax=ax1, color=['red' if x < 0 else 'green' for x in sentiment_df['compound']])\n",
    "ax1.set_title('Compound Sentiment Scores')\n",
    "ax1.set_xlabel('Text Index')\n",
    "ax1.set_ylabel('Compound Score')\n",
    "ax1.axhline(y=0, color='black', linestyle='-', linewidth=0.5)\n",
    "\n",
    "# Stacked bar plot of sentiment components\n",
    "sentiment_df[['neg', 'neu', 'pos']].plot(kind='bar', stacked=True, ax=ax2)\n",
    "ax2.set_title('Sentiment Components')\n",
    "ax2.set_xlabel('Text Index')\n",
    "ax2.set_ylabel('Score')\n",
    "\n",
    "plt.tight_layout()\n",
    "plt.show()"
   ]
  },
  {
   "cell_type": "markdown",
   "metadata": {},
   "source": [
    "## 9. Word Frequency Analysis\n",
    "\n",
    "Let's analyze word frequencies in a larger text."
   ]
  },
  {
   "cell_type": "code",
   "execution_count": 14,
   "metadata": {},
   "outputs": [
    {
     "data": {
      "image/png": "[encoded data removed]",
      "text/plain": [
       "<Figure size 1000x600 with 1 Axes>"
      ]
     },
     "metadata": {},
     "output_type": "display_data"
    }
   ],
   "source": [
    "# Sample paragraph for analysis\n",
    "paragraph = \"\"\"\n",
    "Natural language processing is a subfield of linguistics, computer science, and artificial intelligence \n",
    "concerned with the interactions between computers and human language. NLP combines computational \n",
    "linguistics with statistical, machine learning, and deep learning models. The goal is to enable \n",
    "computers to process and analyze large amounts of natural language data. Common NLP tasks include \n",
    "tokenization, parsing, lemmatization, speech recognition, and machine translation. Modern NLP heavily \n",
    "relies on machine learning algorithms and neural networks, particularly transformer models like BERT \n",
    "and GPT. These models have revolutionized how computers understand and generate human language.\n",
    "\"\"\"\n",
    "\n",
    "# Preprocess and tokenize\n",
    "cleaned_paragraph = preprocess_text(paragraph)\n",
    "words = word_tokenize(cleaned_paragraph)\n",
    "\n",
    "# Remove stop words\n",
    "words = [word for word in words if word not in stop_words and len(word) > 2]\n",
    "\n",
    "# Count word frequencies\n",
    "word_freq = Counter(words)\n",
    "top_words = word_freq.most_common(10)\n",
    "\n",
    "# Create visualization\n",
    "words, counts = zip(*top_words)\n",
    "plt.figure(figsize=(10, 6))\n",
    "plt.bar(words, counts)\n",
    "plt.title('Top 10 Most Frequent Words')\n",
    "plt.xlabel('Words')\n",
    "plt.ylabel('Frequency')\n",
    "plt.xticks(rotation=45)\n",
    "plt.tight_layout()\n",
    "plt.show()"
   ]
  },
  {
   "cell_type": "markdown",
   "metadata": {},
   "source": [
    "## 10. Introduction to Word Embeddings\n",
    "\n",
    "Word embeddings are dense vector representations of words that capture semantic meaning."
   ]
  },
  {
   "cell_type": "code",
   "execution_count": 15,
   "metadata": {},
   "outputs": [
    {
     "name": "stdout",
     "output_type": "stream",
     "text": [
      "One-hot encoding:\n",
      "king: [1, 0, 0, 0, 0]\n",
      "queen: [0, 1, 0, 0, 0]\n",
      "man: [0, 0, 1, 0, 0]\n",
      "woman: [0, 0, 0, 1, 0]\n",
      "royal: [0, 0, 0, 0, 1]\n",
      "\n",
      "Problems with one-hot encoding:\n",
      "- High dimensionality\n",
      "- No semantic relationships\n",
      "- Sparse representation\n",
      "\n",
      "Word embeddings solve these problems by:\n",
      "- Dense, low-dimensional vectors\n",
      "- Capturing semantic relationships\n",
      "- Similar words have similar vectors\n",
      "\n",
      "Popular word embedding models:\n",
      "- Word2Vec\n",
      "- GloVe\n",
      "- FastText\n",
      "- Transformer-based embeddings (BERT, GPT)\n"
     ]
    }
   ],
   "source": [
    "# Simple example of one-hot encoding vs embeddings concept\n",
    "vocabulary = ['king', 'queen', 'man', 'woman', 'royal']\n",
    "\n",
    "# One-hot encoding\n",
    "print(\"One-hot encoding:\")\n",
    "for i, word in enumerate(vocabulary):\n",
    "    one_hot = [0] * len(vocabulary)\n",
    "    one_hot[i] = 1\n",
    "    print(f\"{word}: {one_hot}\")\n",
    "\n",
    "print(\"\\nProblems with one-hot encoding:\")\n",
    "print(\"- High dimensionality\")\n",
    "print(\"- No semantic relationships\")\n",
    "print(\"- Sparse representation\")\n",
    "\n",
    "print(\"\\nWord embeddings solve these problems by:\")\n",
    "print(\"- Dense, low-dimensional vectors\")\n",
    "print(\"- Capturing semantic relationships\")\n",
    "print(\"- Similar words have similar vectors\")\n",
    "print(\"\\nPopular word embedding models:\")\n",
    "print(\"- Word2Vec\")\n",
    "print(\"- GloVe\")\n",
    "print(\"- FastText\")\n",
    "print(\"- Transformer-based embeddings (BERT, GPT)\")"
   ]
  },
  {
   "cell_type": "markdown",
   "metadata": {},
   "source": [
    "## Summary and Next Steps\n",
    "\n",
    "In this notebook, we covered the fundamental concepts of NLP:\n",
    "\n",
    "1. **Text Preprocessing**: Cleaning and preparing text data\n",
    "2. **Tokenization**: Breaking text into words and sentences\n",
    "3. **Stop Words Removal**: Filtering out common words\n",
    "4. **Stemming/Lemmatization**: Reducing words to their base form\n",
    "5. **Bag of Words**: Simple numerical representation\n",
    "6. **TF-IDF**: Weighted word importance\n",
    "7. **Sentiment Analysis**: Understanding text emotion\n",
    "8. **Word Embeddings**: Dense vector representations\n",
    "\n",
    "### Next Steps:\n",
    "- Explore advanced models like Word2Vec and BERT\n",
    "- Try named entity recognition (NER)\n",
    "- Build a text classification model\n",
    "- Experiment with text generation\n",
    "- Learn about transformer architectures\n",
    "\n",
    "### Recommended Resources:\n",
    "- NLTK Book: https://www.nltk.org/book/\n",
    "- spaCy Documentation: https://spacy.io/\n",
    "- Hugging Face Transformers: https://huggingface.co/transformers/\n",
    "- Stanford NLP Course: https://web.stanford.edu/class/cs224n/"
   ]
  },
  {
   "cell_type": "code",
   "execution_count": 16,
   "metadata": {},
   "outputs": [],
   "source": [
    "# Practice Exercise: Analyze your own text\n",
    "# TODO: Replace this with your own text\n",
    "your_text = \"Enter your text here to analyze...\"\n",
    "\n",
    "# Apply what you learned\n",
    "# 1. Preprocess the text\n",
    "# 2. Tokenize it\n",
    "# 3. Remove stop words\n",
    "# 4. Perform sentiment analysis\n",
    "# 5. Create a word frequency visualization"
   ]
  }
 ],
 "metadata": {
  "kernelspec": {
   "display_name": "basecamp3",
   "language": "python",
   "name": "python3"
  },
  "language_info": {
   "codemirror_mode": {
    "name": "ipython",
    "version": 3
   },
   "file_extension": ".py",
   "mimetype": "text/x-python",
   "name": "python",
   "nbconvert_exporter": "python",
   "pygments_lexer": "ipython3",
   "version": "3.12.2"
  }
 },
 "nbformat": 4,
 "nbformat_minor": 4
}

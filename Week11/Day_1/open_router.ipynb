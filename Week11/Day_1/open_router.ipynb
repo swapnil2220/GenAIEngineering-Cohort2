{
 "cells": [
  {
   "cell_type": "code",
   "execution_count": null,
   "id": "3b713fc8",
   "metadata": {},
   "outputs": [],
   "source": []
  },
  {
   "cell_type": "code",
   "execution_count": null,
   "id": "3618efe9",
   "metadata": {},
   "outputs": [],
   "source": [
    "import requests\n",
    "from dotenv import load_dotenv\n",
    "import os\n",
    "\n",
    "# Load environment variables from .env file\n",
    "load_dotenv()\n",
    "\n",
    "api_key=os.getenv(\"OPEN_ROUTER_KEY\")\n",
    "headers = {\"Authorization\": f\"Bearer {api_key}\",\"Content-Type\": \"application/json\"}  \n",
    "\n",
    "\n",
    "\n",
    "\n"
   ]
  },
  {
   "cell_type": "code",
   "execution_count": null,
   "id": "464deeae",
   "metadata": {},
   "outputs": [],
   "source": [
    "# print(api_key)"
   ]
  },
  {
   "cell_type": "code",
   "execution_count": null,
   "id": "ea793140",
   "metadata": {},
   "outputs": [],
   "source": [
    "url = \"https://openrouter.ai/api/v1/models\"\n",
    "response = requests.get(url, headers=headers, timeout=10)\n",
    "models=response.json()\n",
    "\n",
    "\n",
    "class_of_models = 'gemini'\n",
    "\n",
    "for model in models['data']:  # Show first 10 models\n",
    "  if class_of_models in model['id']:\n",
    "    print(f\"Model ID: {model['id']}\")\n",
    "    print(f\"  - Name: {model.get('name', 'N/A')}\")\n",
    "    print(f\"  - Description: {model.get('description', 'N/A')}\")\n",
    "    print(f\"*****************************************************************\")        \n"
   ]
  },
  {
   "cell_type": "code",
   "execution_count": null,
   "id": "0c9af78d",
   "metadata": {},
   "outputs": [],
   "source": [
    "for model in models['data']:  # Show first 10 models\n",
    "\n",
    "  print(f\"Model ID: {model['id']}\")\n",
    "  print(f\"  - Name: {model.get('name', 'N/A')}\")\n",
    "  print(f\"  - Description: {model.get('description', 'N/A')}\")\n",
    "  print(f\"*****************************************************************\") "
   ]
  },
  {
   "cell_type": "code",
   "execution_count": null,
   "id": "d341622b",
   "metadata": {},
   "outputs": [],
   "source": []
  },
  {
   "cell_type": "code",
   "execution_count": null,
   "id": "2f4d31ce",
   "metadata": {},
   "outputs": [],
   "source": [
    "\n",
    "query=\"Introduce openrouter\"\n",
    "\n",
    "url = \"https://openrouter.ai/api/v1/chat/completions\"\n",
    "model=\"\"\n",
    "data = {\n",
    "    \"model\": 'openai/gpt-4o',\n",
    "    \"messages\": [\n",
    "        {\n",
    "            \"role\": \"user\", \n",
    "            \"content\": query\n",
    "        }\n",
    "    ],\n",
    "    \"max_tokens\": 50,\n",
    "    \"temperature\": 0.7\n",
    "}\n",
    "\n",
    "response = requests.post(url, headers=headers, json=data, timeout=30)\n",
    "result=response.json()\n",
    "print(result['choices'][0]['message']['content'])\n"
   ]
  },
  {
   "cell_type": "code",
   "execution_count": null,
   "id": "ad3ae0c2",
   "metadata": {},
   "outputs": [],
   "source": []
  }
 ],
 "metadata": {
  "kernelspec": {
   "display_name": "crew_env",
   "language": "python",
   "name": "python3"
  },
  "language_info": {
   "codemirror_mode": {
    "name": "ipython",
    "version": 3
   },
   "file_extension": ".py",
   "mimetype": "text/x-python",
   "name": "python",
   "nbconvert_exporter": "python",
   "pygments_lexer": "ipython3",
   "version": "3.11.4"
  }
 },
 "nbformat": 4,
 "nbformat_minor": 5
}
